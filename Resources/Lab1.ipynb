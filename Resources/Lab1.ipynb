{
 "cells": [
  {
   "cell_type": "code",
   "execution_count": 1,
   "metadata": {},
   "outputs": [
    {
     "name": "stderr",
     "output_type": "stream",
     "text": [
      "Loading required package: car\n",
      "\n",
      "Attaching package: 'alr3'\n",
      "\n",
      "The following object is masked from 'package:MASS':\n",
      "\n",
      "    forbes\n",
      "\n",
      "Loading required package: psych\n",
      "\n",
      "Attaching package: 'psych'\n",
      "\n",
      "The following object is masked from 'package:alr3':\n",
      "\n",
      "    heights\n",
      "\n",
      "The following object is masked from 'package:car':\n",
      "\n",
      "    logit\n",
      "\n",
      "Loading required package: gpairs\n",
      "Loading required package: corrplot\n",
      "Loading required package: gplots\n",
      "\n",
      "Attaching package: 'gplots'\n",
      "\n",
      "The following object is masked from 'package:stats':\n",
      "\n",
      "    lowess\n",
      "\n",
      "Loading required package: coefplot\n",
      "Loading required package: ggplot2\n",
      "\n",
      "Attaching package: 'ggplot2'\n",
      "\n",
      "The following objects are masked from 'package:psych':\n",
      "\n",
      "    %+%, alpha\n",
      "\n"
     ]
    }
   ],
   "source": [
    "#install.packages(\"psych\")\n",
    "#install.packages(\"gpairs\")\n",
    "#install.packages(\"gplots\")\n",
    "#install.packages(\"coefplot\")\n",
    "#install.packages(\"car\")\n",
    "#install.packages(\"corrplot\")\n",
    "#install.packages(\"alr3\")\n",
    "#install.packaged(\"MASS\")\n",
    "#install.packages(\"mlogit\")\n",
    "library(MASS)\n",
    "library(alr3)\n",
    "require(car)\n",
    "require(\"psych\")\n",
    "require(gpairs)\n",
    "require(corrplot)\n",
    "require(gplots)\n",
    "require(coefplot)\n"
   ]
  },
  {
   "cell_type": "code",
   "execution_count": 2,
   "metadata": {},
   "outputs": [],
   "source": [
    "setwd(\"C:\\\\Users\\\\armop\\\\Dropbox\\\\PHD\\\\Teaching\\\\AGBU505\\\\2019\\\\Lecture1\") ##Start by defining directory\n",
    "df=read.table(\"amus_park.csv\",sep=\",\",header=TRUE)"
   ]
  },
  {
   "cell_type": "markdown",
   "metadata": {},
   "source": [
    "After loading the data start the usual procedure to check the correctness of the loaded data. Check whether the loaded data has correct dimensions, print the first and last few observations."
   ]
  },
  {
   "cell_type": "code",
   "execution_count": 3,
   "metadata": {},
   "outputs": [
    {
     "data": {
      "text/html": [
       "<ol class=list-inline>\n",
       "\t<li>500</li>\n",
       "\t<li>8</li>\n",
       "</ol>\n"
      ],
      "text/latex": [
       "\\begin{enumerate*}\n",
       "\\item 500\n",
       "\\item 8\n",
       "\\end{enumerate*}\n"
      ],
      "text/markdown": [
       "1. 500\n",
       "2. 8\n",
       "\n",
       "\n"
      ],
      "text/plain": [
       "[1] 500   8"
      ]
     },
     "metadata": {},
     "output_type": "display_data"
    }
   ],
   "source": [
    "dim(df)"
   ]
  },
  {
   "cell_type": "code",
   "execution_count": 4,
   "metadata": {},
   "outputs": [
    {
     "data": {
      "text/html": [
       "<table>\n",
       "<thead><tr><th scope=col>weekend</th><th scope=col>num.child</th><th scope=col>distance</th><th scope=col>rides</th><th scope=col>games</th><th scope=col>wait</th><th scope=col>clean</th><th scope=col>overall</th></tr></thead>\n",
       "<tbody>\n",
       "\t<tr><td>yes      </td><td>0        </td><td>114.64826</td><td>82       </td><td>68       </td><td>64       </td><td>86       </td><td>49       </td></tr>\n",
       "\t<tr><td>yes      </td><td>2        </td><td> 27.01410</td><td>82       </td><td>73       </td><td>80       </td><td>84       </td><td>68       </td></tr>\n",
       "\t<tr><td>no       </td><td>1        </td><td> 63.30098</td><td>79       </td><td>75       </td><td>74       </td><td>86       </td><td>62       </td></tr>\n",
       "\t<tr><td>yes      </td><td>0        </td><td> 25.90993</td><td>82       </td><td>68       </td><td>69       </td><td>87       </td><td>38       </td></tr>\n",
       "\t<tr><td>no       </td><td>4        </td><td> 54.71831</td><td>78       </td><td>83       </td><td>78       </td><td>84       </td><td>69       </td></tr>\n",
       "\t<tr><td>no       </td><td>5        </td><td> 22.67934</td><td>76       </td><td>75       </td><td>51       </td><td>77       </td><td>29       </td></tr>\n",
       "</tbody>\n",
       "</table>\n"
      ],
      "text/latex": [
       "\\begin{tabular}{r|llllllll}\n",
       " weekend & num.child & distance & rides & games & wait & clean & overall\\\\\n",
       "\\hline\n",
       "\t yes       & 0         & 114.64826 & 82        & 68        & 64        & 86        & 49       \\\\\n",
       "\t yes       & 2         &  27.01410 & 82        & 73        & 80        & 84        & 68       \\\\\n",
       "\t no        & 1         &  63.30098 & 79        & 75        & 74        & 86        & 62       \\\\\n",
       "\t yes       & 0         &  25.90993 & 82        & 68        & 69        & 87        & 38       \\\\\n",
       "\t no        & 4         &  54.71831 & 78        & 83        & 78        & 84        & 69       \\\\\n",
       "\t no        & 5         &  22.67934 & 76        & 75        & 51        & 77        & 29       \\\\\n",
       "\\end{tabular}\n"
      ],
      "text/markdown": [
       "\n",
       "weekend | num.child | distance | rides | games | wait | clean | overall | \n",
       "|---|---|---|---|---|---|\n",
       "| yes       | 0         | 114.64826 | 82        | 68        | 64        | 86        | 49        | \n",
       "| yes       | 2         |  27.01410 | 82        | 73        | 80        | 84        | 68        | \n",
       "| no        | 1         |  63.30098 | 79        | 75        | 74        | 86        | 62        | \n",
       "| yes       | 0         |  25.90993 | 82        | 68        | 69        | 87        | 38        | \n",
       "| no        | 4         |  54.71831 | 78        | 83        | 78        | 84        | 69        | \n",
       "| no        | 5         |  22.67934 | 76        | 75        | 51        | 77        | 29        | \n",
       "\n",
       "\n"
      ],
      "text/plain": [
       "  weekend num.child distance  rides games wait clean overall\n",
       "1 yes     0         114.64826 82    68    64   86    49     \n",
       "2 yes     2          27.01410 82    73    80   84    68     \n",
       "3 no      1          63.30098 79    75    74   86    62     \n",
       "4 yes     0          25.90993 82    68    69   87    38     \n",
       "5 no      4          54.71831 78    83    78   84    69     \n",
       "6 no      5          22.67934 76    75    51   77    29     "
      ]
     },
     "metadata": {},
     "output_type": "display_data"
    }
   ],
   "source": [
    "head(df)"
   ]
  },
  {
   "cell_type": "code",
   "execution_count": 5,
   "metadata": {
    "scrolled": true
   },
   "outputs": [
    {
     "data": {
      "text/html": [
       "<table>\n",
       "<thead><tr><th></th><th scope=col>weekend</th><th scope=col>num.child</th><th scope=col>distance</th><th scope=col>rides</th><th scope=col>games</th><th scope=col>wait</th><th scope=col>clean</th><th scope=col>overall</th></tr></thead>\n",
       "<tbody>\n",
       "\t<tr><th scope=row>495</th><td>no      </td><td>5       </td><td>41.47010</td><td>78      </td><td>80      </td><td>80      </td><td>87      </td><td>57      </td></tr>\n",
       "\t<tr><th scope=row>496</th><td>no      </td><td>0       </td><td>11.05258</td><td>85      </td><td>67      </td><td>72      </td><td>87      </td><td>48      </td></tr>\n",
       "\t<tr><th scope=row>497</th><td>yes     </td><td>0       </td><td> 8.18774</td><td>86      </td><td>79      </td><td>85      </td><td>89      </td><td>48      </td></tr>\n",
       "\t<tr><th scope=row>498</th><td>no      </td><td>2       </td><td>45.17740</td><td>90      </td><td>88      </td><td>89      </td><td>91      </td><td>74      </td></tr>\n",
       "\t<tr><th scope=row>499</th><td>no      </td><td>3       </td><td>27.08838</td><td>78      </td><td>79      </td><td>84      </td><td>86      </td><td>57      </td></tr>\n",
       "\t<tr><th scope=row>500</th><td>no      </td><td>1       </td><td>38.40876</td><td>81      </td><td>84      </td><td>81      </td><td>83      </td><td>65      </td></tr>\n",
       "</tbody>\n",
       "</table>\n"
      ],
      "text/latex": [
       "\\begin{tabular}{r|llllllll}\n",
       "  & weekend & num.child & distance & rides & games & wait & clean & overall\\\\\n",
       "\\hline\n",
       "\t495 & no       & 5        & 41.47010 & 78       & 80       & 80       & 87       & 57      \\\\\n",
       "\t496 & no       & 0        & 11.05258 & 85       & 67       & 72       & 87       & 48      \\\\\n",
       "\t497 & yes      & 0        &  8.18774 & 86       & 79       & 85       & 89       & 48      \\\\\n",
       "\t498 & no       & 2        & 45.17740 & 90       & 88       & 89       & 91       & 74      \\\\\n",
       "\t499 & no       & 3        & 27.08838 & 78       & 79       & 84       & 86       & 57      \\\\\n",
       "\t500 & no       & 1        & 38.40876 & 81       & 84       & 81       & 83       & 65      \\\\\n",
       "\\end{tabular}\n"
      ],
      "text/markdown": [
       "\n",
       "| <!--/--> | weekend | num.child | distance | rides | games | wait | clean | overall | \n",
       "|---|---|---|---|---|---|\n",
       "| 495 | no       | 5        | 41.47010 | 78       | 80       | 80       | 87       | 57       | \n",
       "| 496 | no       | 0        | 11.05258 | 85       | 67       | 72       | 87       | 48       | \n",
       "| 497 | yes      | 0        |  8.18774 | 86       | 79       | 85       | 89       | 48       | \n",
       "| 498 | no       | 2        | 45.17740 | 90       | 88       | 89       | 91       | 74       | \n",
       "| 499 | no       | 3        | 27.08838 | 78       | 79       | 84       | 86       | 57       | \n",
       "| 500 | no       | 1        | 38.40876 | 81       | 84       | 81       | 83       | 65       | \n",
       "\n",
       "\n"
      ],
      "text/plain": [
       "    weekend num.child distance rides games wait clean overall\n",
       "495 no      5         41.47010 78    80    80   87    57     \n",
       "496 no      0         11.05258 85    67    72   87    48     \n",
       "497 yes     0          8.18774 86    79    85   89    48     \n",
       "498 no      2         45.17740 90    88    89   91    74     \n",
       "499 no      3         27.08838 78    79    84   86    57     \n",
       "500 no      1         38.40876 81    84    81   83    65     "
      ]
     },
     "metadata": {},
     "output_type": "display_data"
    }
   ],
   "source": [
    "tail(df)"
   ]
  },
  {
   "cell_type": "markdown",
   "metadata": {},
   "source": [
    "Check for NAN or missing values"
   ]
  },
  {
   "cell_type": "code",
   "execution_count": 6,
   "metadata": {},
   "outputs": [
    {
     "data": {
      "text/html": [
       "0"
      ],
      "text/latex": [
       "0"
      ],
      "text/markdown": [
       "0"
      ],
      "text/plain": [
       "[1] 0"
      ]
     },
     "metadata": {},
     "output_type": "display_data"
    }
   ],
   "source": [
    "sum(is.na(df)) #Check for NAN or missing values"
   ]
  },
  {
   "cell_type": "markdown",
   "metadata": {},
   "source": [
    "It is good idea to summerize your data and investigate it."
   ]
  },
  {
   "cell_type": "code",
   "execution_count": 7,
   "metadata": {},
   "outputs": [
    {
     "data": {
      "text/html": [
       "<table>\n",
       "<thead><tr><th></th><th scope=col>vars</th><th scope=col>n</th><th scope=col>mean</th><th scope=col>sd</th><th scope=col>median</th><th scope=col>trimmed</th><th scope=col>mad</th><th scope=col>min</th><th scope=col>max</th><th scope=col>range</th><th scope=col>skew</th><th scope=col>kurtosis</th><th scope=col>se</th></tr></thead>\n",
       "<tbody>\n",
       "\t<tr><th scope=row>weekend*</th><td>1           </td><td>500         </td><td> 1.48200    </td><td> 0.5001763  </td><td> 1.00000    </td><td> 1.47750    </td><td> 0.00000    </td><td> 1.0000000  </td><td>  2.0000    </td><td>  1.0000    </td><td> 0.071830669</td><td>-1.9988260  </td><td>0.02236857  </td></tr>\n",
       "\t<tr><th scope=row>num.child</th><td>2           </td><td>500         </td><td> 1.73800    </td><td> 1.4959384  </td><td> 2.00000    </td><td> 1.61000    </td><td> 1.48260    </td><td> 0.0000000  </td><td>  5.0000    </td><td>  5.0000    </td><td> 0.437142150</td><td>-0.7509303  </td><td>0.06690040  </td></tr>\n",
       "\t<tr><th scope=row>distance</th><td>3           </td><td>500         </td><td>31.04751    </td><td>33.1454452  </td><td>19.01909    </td><td>24.64603    </td><td>17.25512    </td><td> 0.5267228  </td><td>239.1921    </td><td>238.6654    </td><td> 2.574233780</td><td> 8.9959900  </td><td>1.48230937  </td></tr>\n",
       "\t<tr><th scope=row>rides</th><td>4           </td><td>500         </td><td>80.38200    </td><td> 5.4150458  </td><td>80.00000    </td><td>80.35250    </td><td> 5.93040    </td><td>67.0000000  </td><td> 94.0000    </td><td> 27.0000    </td><td> 0.060117097</td><td>-0.4848875  </td><td>0.24216821  </td></tr>\n",
       "\t<tr><th scope=row>games</th><td>5           </td><td>500         </td><td>74.14400    </td><td> 8.1249797  </td><td>74.00000    </td><td>74.20000    </td><td> 8.89560    </td><td>52.0000000  </td><td> 96.0000    </td><td> 44.0000    </td><td>-0.049533738</td><td>-0.3451199  </td><td>0.36336014  </td></tr>\n",
       "\t<tr><th scope=row>wait</th><td>6           </td><td>500         </td><td>73.41600    </td><td>10.7518439  </td><td>74.00000    </td><td>73.50500    </td><td>11.86080    </td><td>43.0000000  </td><td>103.0000    </td><td> 60.0000    </td><td>-0.075266072</td><td>-0.2293318  </td><td>0.48083708  </td></tr>\n",
       "\t<tr><th scope=row>clean</th><td>7           </td><td>500         </td><td>85.39200    </td><td> 5.1333262  </td><td>85.00000    </td><td>85.38750    </td><td> 5.93040    </td><td>72.0000000  </td><td> 98.0000    </td><td> 26.0000    </td><td> 0.008375348</td><td>-0.4473279  </td><td>0.22956933  </td></tr>\n",
       "\t<tr><th scope=row>overall</th><td>8           </td><td>500         </td><td>52.87200    </td><td>16.0763339  </td><td>52.00000    </td><td>52.51000    </td><td>16.30860    </td><td> 6.0000000  </td><td>102.0000    </td><td> 96.0000    </td><td> 0.196187378</td><td>-0.1597183  </td><td>0.71895551  </td></tr>\n",
       "</tbody>\n",
       "</table>\n"
      ],
      "text/latex": [
       "\\begin{tabular}{r|lllllllllllll}\n",
       "  & vars & n & mean & sd & median & trimmed & mad & min & max & range & skew & kurtosis & se\\\\\n",
       "\\hline\n",
       "\tweekend* & 1            & 500          &  1.48200     &  0.5001763   &  1.00000     &  1.47750     &  0.00000     &  1.0000000   &   2.0000     &   1.0000     &  0.071830669 & -1.9988260   & 0.02236857  \\\\\n",
       "\tnum.child & 2            & 500          &  1.73800     &  1.4959384   &  2.00000     &  1.61000     &  1.48260     &  0.0000000   &   5.0000     &   5.0000     &  0.437142150 & -0.7509303   & 0.06690040  \\\\\n",
       "\tdistance & 3            & 500          & 31.04751     & 33.1454452   & 19.01909     & 24.64603     & 17.25512     &  0.5267228   & 239.1921     & 238.6654     &  2.574233780 &  8.9959900   & 1.48230937  \\\\\n",
       "\trides & 4            & 500          & 80.38200     &  5.4150458   & 80.00000     & 80.35250     &  5.93040     & 67.0000000   &  94.0000     &  27.0000     &  0.060117097 & -0.4848875   & 0.24216821  \\\\\n",
       "\tgames & 5            & 500          & 74.14400     &  8.1249797   & 74.00000     & 74.20000     &  8.89560     & 52.0000000   &  96.0000     &  44.0000     & -0.049533738 & -0.3451199   & 0.36336014  \\\\\n",
       "\twait & 6            & 500          & 73.41600     & 10.7518439   & 74.00000     & 73.50500     & 11.86080     & 43.0000000   & 103.0000     &  60.0000     & -0.075266072 & -0.2293318   & 0.48083708  \\\\\n",
       "\tclean & 7            & 500          & 85.39200     &  5.1333262   & 85.00000     & 85.38750     &  5.93040     & 72.0000000   &  98.0000     &  26.0000     &  0.008375348 & -0.4473279   & 0.22956933  \\\\\n",
       "\toverall & 8            & 500          & 52.87200     & 16.0763339   & 52.00000     & 52.51000     & 16.30860     &  6.0000000   & 102.0000     &  96.0000     &  0.196187378 & -0.1597183   & 0.71895551  \\\\\n",
       "\\end{tabular}\n"
      ],
      "text/markdown": [
       "\n",
       "| <!--/--> | vars | n | mean | sd | median | trimmed | mad | min | max | range | skew | kurtosis | se | \n",
       "|---|---|---|---|---|---|---|---|\n",
       "| weekend* | 1            | 500          |  1.48200     |  0.5001763   |  1.00000     |  1.47750     |  0.00000     |  1.0000000   |   2.0000     |   1.0000     |  0.071830669 | -1.9988260   | 0.02236857   | \n",
       "| num.child | 2            | 500          |  1.73800     |  1.4959384   |  2.00000     |  1.61000     |  1.48260     |  0.0000000   |   5.0000     |   5.0000     |  0.437142150 | -0.7509303   | 0.06690040   | \n",
       "| distance | 3            | 500          | 31.04751     | 33.1454452   | 19.01909     | 24.64603     | 17.25512     |  0.5267228   | 239.1921     | 238.6654     |  2.574233780 |  8.9959900   | 1.48230937   | \n",
       "| rides | 4            | 500          | 80.38200     |  5.4150458   | 80.00000     | 80.35250     |  5.93040     | 67.0000000   |  94.0000     |  27.0000     |  0.060117097 | -0.4848875   | 0.24216821   | \n",
       "| games | 5            | 500          | 74.14400     |  8.1249797   | 74.00000     | 74.20000     |  8.89560     | 52.0000000   |  96.0000     |  44.0000     | -0.049533738 | -0.3451199   | 0.36336014   | \n",
       "| wait | 6            | 500          | 73.41600     | 10.7518439   | 74.00000     | 73.50500     | 11.86080     | 43.0000000   | 103.0000     |  60.0000     | -0.075266072 | -0.2293318   | 0.48083708   | \n",
       "| clean | 7            | 500          | 85.39200     |  5.1333262   | 85.00000     | 85.38750     |  5.93040     | 72.0000000   |  98.0000     |  26.0000     |  0.008375348 | -0.4473279   | 0.22956933   | \n",
       "| overall | 8            | 500          | 52.87200     | 16.0763339   | 52.00000     | 52.51000     | 16.30860     |  6.0000000   | 102.0000     |  96.0000     |  0.196187378 | -0.1597183   | 0.71895551   | \n",
       "\n",
       "\n"
      ],
      "text/plain": [
       "          vars n   mean     sd         median   trimmed  mad      min       \n",
       "weekend*  1    500  1.48200  0.5001763  1.00000  1.47750  0.00000  1.0000000\n",
       "num.child 2    500  1.73800  1.4959384  2.00000  1.61000  1.48260  0.0000000\n",
       "distance  3    500 31.04751 33.1454452 19.01909 24.64603 17.25512  0.5267228\n",
       "rides     4    500 80.38200  5.4150458 80.00000 80.35250  5.93040 67.0000000\n",
       "games     5    500 74.14400  8.1249797 74.00000 74.20000  8.89560 52.0000000\n",
       "wait      6    500 73.41600 10.7518439 74.00000 73.50500 11.86080 43.0000000\n",
       "clean     7    500 85.39200  5.1333262 85.00000 85.38750  5.93040 72.0000000\n",
       "overall   8    500 52.87200 16.0763339 52.00000 52.51000 16.30860  6.0000000\n",
       "          max      range    skew         kurtosis   se        \n",
       "weekend*    2.0000   1.0000  0.071830669 -1.9988260 0.02236857\n",
       "num.child   5.0000   5.0000  0.437142150 -0.7509303 0.06690040\n",
       "distance  239.1921 238.6654  2.574233780  8.9959900 1.48230937\n",
       "rides      94.0000  27.0000  0.060117097 -0.4848875 0.24216821\n",
       "games      96.0000  44.0000 -0.049533738 -0.3451199 0.36336014\n",
       "wait      103.0000  60.0000 -0.075266072 -0.2293318 0.48083708\n",
       "clean      98.0000  26.0000  0.008375348 -0.4473279 0.22956933\n",
       "overall   102.0000  96.0000  0.196187378 -0.1597183 0.71895551"
      ]
     },
     "metadata": {},
     "output_type": "display_data"
    }
   ],
   "source": [
    "describe(df)"
   ]
  },
  {
   "cell_type": "markdown",
   "metadata": {},
   "source": [
    "or you can use different command"
   ]
  },
  {
   "cell_type": "code",
   "execution_count": 8,
   "metadata": {
    "scrolled": true
   },
   "outputs": [
    {
     "data": {
      "text/plain": [
       " weekend     num.child        distance            rides           games      \n",
       " no :259   Min.   :0.000   Min.   :  0.5267   Min.   :67.00   Min.   :52.00  \n",
       " yes:241   1st Qu.:0.000   1st Qu.: 10.3181   1st Qu.:77.00   1st Qu.:68.00  \n",
       "           Median :2.000   Median : 19.0191   Median :80.00   Median :74.00  \n",
       "           Mean   :1.738   Mean   : 31.0475   Mean   :80.38   Mean   :74.14  \n",
       "           3rd Qu.:3.000   3rd Qu.: 39.5821   3rd Qu.:84.00   3rd Qu.:80.00  \n",
       "           Max.   :5.000   Max.   :239.1921   Max.   :94.00   Max.   :96.00  \n",
       "      wait            clean          overall      \n",
       " Min.   : 43.00   Min.   :72.00   Min.   :  6.00  \n",
       " 1st Qu.: 65.75   1st Qu.:82.00   1st Qu.: 41.75  \n",
       " Median : 74.00   Median :85.00   Median : 52.00  \n",
       " Mean   : 73.42   Mean   :85.39   Mean   : 52.87  \n",
       " 3rd Qu.: 81.00   3rd Qu.:89.00   3rd Qu.: 63.00  \n",
       " Max.   :103.00   Max.   :98.00   Max.   :102.00  "
      ]
     },
     "metadata": {},
     "output_type": "display_data"
    }
   ],
   "source": [
    "summary(df)"
   ]
  },
  {
   "cell_type": "markdown",
   "metadata": {},
   "source": [
    "For summerizing discrete data use function *table()*"
   ]
  },
  {
   "cell_type": "code",
   "execution_count": 9,
   "metadata": {},
   "outputs": [
    {
     "data": {
      "text/plain": [
       "\n",
       " no yes \n",
       "259 241 "
      ]
     },
     "metadata": {},
     "output_type": "display_data"
    }
   ],
   "source": [
    "table(df$weekend) #for discrete data"
   ]
  },
  {
   "cell_type": "markdown",
   "metadata": {},
   "source": [
    "Before modeling, there are two important things to check: that each individual variable\n",
    "has a reasonable distribution, and that joint relationships among the variables\n",
    "are appropriate for modeling. Start by visualizing data."
   ]
  },
  {
   "cell_type": "code",
   "execution_count": 10,
   "metadata": {},
   "outputs": [
    {
     "data": {
      "image/png": "[encoded data removed]",
      "text/plain": [
       "plot without title"
      ]
     },
     "metadata": {},
     "output_type": "display_data"
    }
   ],
   "source": [
    "#Visualize the data\n",
    "pairs(formula = ∼ weekend +  num.child + distance   +rides  + games + wait + clean\n",
    "      + overall, data=df,main=\"\")"
   ]
  },
  {
   "cell_type": "code",
   "execution_count": 11,
   "metadata": {
    "scrolled": false
   },
   "outputs": [
    {
     "name": "stderr",
     "output_type": "stream",
     "text": [
      "Loading required package: grid\n",
      "Loading required package: lattice\n"
     ]
    },
    {
     "data": {
      "image/png": "[encoded data removed]",
      "text/plain": [
       "plot without title"
      ]
     },
     "metadata": {},
     "output_type": "display_data"
    }
   ],
   "source": [
    "gpairs(df)"
   ]
  },
  {
   "cell_type": "markdown",
   "metadata": {},
   "source": [
    "The difference of the above two function is on how they handle the discrete values. \n",
    "\n",
    "To check the relationships among variables, we examine the bivariate scatterplots\n",
    "shown Figure above. They show few concerns apart from the need to transform\n",
    "distance. For example, the pairwise scatterplots of our continuous measures are\n",
    "generally elliptical in shape, which is a good indication that they are appropriate to\n",
    "use in a linear model. One question, however, concerns the fact that the variables in\n",
    "the lower right of figure are positively correlated."
   ]
  },
  {
   "cell_type": "code",
   "execution_count": 12,
   "metadata": {},
   "outputs": [],
   "source": [
    "df$logdist=log(df$distance)"
   ]
  },
  {
   "cell_type": "code",
   "execution_count": 13,
   "metadata": {},
   "outputs": [
    {
     "data": {
      "image/png": "[encoded data removed]",
      "text/plain": [
       "plot without title"
      ]
     },
     "metadata": {},
     "output_type": "display_data"
    }
   ],
   "source": [
    "gpairs(df[,-3])"
   ]
  },
  {
   "cell_type": "code",
   "execution_count": 14,
   "metadata": {},
   "outputs": [
    {
     "data": {
      "text/html": [
       "<table>\n",
       "<thead><tr><th scope=col>weekend</th><th scope=col>num.child</th><th scope=col>distance</th><th scope=col>rides</th><th scope=col>games</th><th scope=col>wait</th><th scope=col>clean</th><th scope=col>overall</th><th scope=col>logdist</th></tr></thead>\n",
       "<tbody>\n",
       "\t<tr><td>yes      </td><td>0        </td><td>114.64826</td><td>82       </td><td>68       </td><td>64       </td><td>86       </td><td>49       </td><td>4.741869 </td></tr>\n",
       "\t<tr><td>yes      </td><td>2        </td><td> 27.01410</td><td>82       </td><td>73       </td><td>80       </td><td>84       </td><td>68       </td><td>3.296359 </td></tr>\n",
       "\t<tr><td>no       </td><td>1        </td><td> 63.30098</td><td>79       </td><td>75       </td><td>74       </td><td>86       </td><td>62       </td><td>4.147901 </td></tr>\n",
       "\t<tr><td>yes      </td><td>0        </td><td> 25.90993</td><td>82       </td><td>68       </td><td>69       </td><td>87       </td><td>38       </td><td>3.254626 </td></tr>\n",
       "\t<tr><td>no       </td><td>4        </td><td> 54.71831</td><td>78       </td><td>83       </td><td>78       </td><td>84       </td><td>69       </td><td>4.002198 </td></tr>\n",
       "\t<tr><td>no       </td><td>5        </td><td> 22.67934</td><td>76       </td><td>75       </td><td>51       </td><td>77       </td><td>29       </td><td>3.121454 </td></tr>\n",
       "</tbody>\n",
       "</table>\n"
      ],
      "text/latex": [
       "\\begin{tabular}{r|lllllllll}\n",
       " weekend & num.child & distance & rides & games & wait & clean & overall & logdist\\\\\n",
       "\\hline\n",
       "\t yes       & 0         & 114.64826 & 82        & 68        & 64        & 86        & 49        & 4.741869 \\\\\n",
       "\t yes       & 2         &  27.01410 & 82        & 73        & 80        & 84        & 68        & 3.296359 \\\\\n",
       "\t no        & 1         &  63.30098 & 79        & 75        & 74        & 86        & 62        & 4.147901 \\\\\n",
       "\t yes       & 0         &  25.90993 & 82        & 68        & 69        & 87        & 38        & 3.254626 \\\\\n",
       "\t no        & 4         &  54.71831 & 78        & 83        & 78        & 84        & 69        & 4.002198 \\\\\n",
       "\t no        & 5         &  22.67934 & 76        & 75        & 51        & 77        & 29        & 3.121454 \\\\\n",
       "\\end{tabular}\n"
      ],
      "text/markdown": [
       "\n",
       "weekend | num.child | distance | rides | games | wait | clean | overall | logdist | \n",
       "|---|---|---|---|---|---|\n",
       "| yes       | 0         | 114.64826 | 82        | 68        | 64        | 86        | 49        | 4.741869  | \n",
       "| yes       | 2         |  27.01410 | 82        | 73        | 80        | 84        | 68        | 3.296359  | \n",
       "| no        | 1         |  63.30098 | 79        | 75        | 74        | 86        | 62        | 4.147901  | \n",
       "| yes       | 0         |  25.90993 | 82        | 68        | 69        | 87        | 38        | 3.254626  | \n",
       "| no        | 4         |  54.71831 | 78        | 83        | 78        | 84        | 69        | 4.002198  | \n",
       "| no        | 5         |  22.67934 | 76        | 75        | 51        | 77        | 29        | 3.121454  | \n",
       "\n",
       "\n"
      ],
      "text/plain": [
       "  weekend num.child distance  rides games wait clean overall logdist \n",
       "1 yes     0         114.64826 82    68    64   86    49      4.741869\n",
       "2 yes     2          27.01410 82    73    80   84    68      3.296359\n",
       "3 no      1          63.30098 79    75    74   86    62      4.147901\n",
       "4 yes     0          25.90993 82    68    69   87    38      3.254626\n",
       "5 no      4          54.71831 78    83    78   84    69      4.002198\n",
       "6 no      5          22.67934 76    75    51   77    29      3.121454"
      ]
     },
     "metadata": {},
     "output_type": "display_data"
    }
   ],
   "source": [
    "head(df)"
   ]
  },
  {
   "cell_type": "markdown",
   "metadata": {},
   "source": [
    "Although scatterplots provide a lot of visual information, when there are more than\n",
    "a few variables, it can be helpful to assess the relationship between each pair with a\n",
    "single number."
   ]
  },
  {
   "cell_type": "code",
   "execution_count": 15,
   "metadata": {},
   "outputs": [
    {
     "data": {
      "text/html": [
       "<table>\n",
       "<thead><tr><th></th><th scope=col>num.child</th><th scope=col>distance</th><th scope=col>rides</th><th scope=col>games</th><th scope=col>wait</th><th scope=col>clean</th><th scope=col>overall</th></tr></thead>\n",
       "<tbody>\n",
       "\t<tr><th scope=row>num.child</th><td> 1.00000000 </td><td>-0.012136454</td><td>-0.027697383</td><td> 0.012343448</td><td>-0.020994861</td><td>-0.007998140</td><td>0.34242021  </td></tr>\n",
       "\t<tr><th scope=row>distance</th><td>-0.01213645 </td><td> 1.000000000</td><td>-0.008598235</td><td>-0.008036711</td><td>-0.005848262</td><td> 0.002919032</td><td>0.08829766  </td></tr>\n",
       "\t<tr><th scope=row>rides</th><td>-0.02769738 </td><td>-0.008598235</td><td> 1.000000000</td><td> 0.453413358</td><td> 0.315824769</td><td> 0.789004748</td><td>0.57772686  </td></tr>\n",
       "\t<tr><th scope=row>games</th><td> 0.01234345 </td><td>-0.008036711</td><td> 0.453413358</td><td> 1.000000000</td><td> 0.299620997</td><td> 0.516460748</td><td>0.43325421  </td></tr>\n",
       "\t<tr><th scope=row>wait</th><td>-0.02099486 </td><td>-0.005848262</td><td> 0.315824769</td><td> 0.299620997</td><td> 1.000000000</td><td> 0.366849504</td><td>0.56539527  </td></tr>\n",
       "\t<tr><th scope=row>clean</th><td>-0.00799814 </td><td> 0.002919032</td><td> 0.789004748</td><td> 0.516460748</td><td> 0.366849504</td><td> 1.000000000</td><td>0.62814674  </td></tr>\n",
       "\t<tr><th scope=row>overall</th><td> 0.34242021 </td><td> 0.088297655</td><td> 0.577726856</td><td> 0.433254206</td><td> 0.565395275</td><td> 0.628146742</td><td>1.00000000  </td></tr>\n",
       "</tbody>\n",
       "</table>\n"
      ],
      "text/latex": [
       "\\begin{tabular}{r|lllllll}\n",
       "  & num.child & distance & rides & games & wait & clean & overall\\\\\n",
       "\\hline\n",
       "\tnum.child &  1.00000000  & -0.012136454 & -0.027697383 &  0.012343448 & -0.020994861 & -0.007998140 & 0.34242021  \\\\\n",
       "\tdistance & -0.01213645  &  1.000000000 & -0.008598235 & -0.008036711 & -0.005848262 &  0.002919032 & 0.08829766  \\\\\n",
       "\trides & -0.02769738  & -0.008598235 &  1.000000000 &  0.453413358 &  0.315824769 &  0.789004748 & 0.57772686  \\\\\n",
       "\tgames &  0.01234345  & -0.008036711 &  0.453413358 &  1.000000000 &  0.299620997 &  0.516460748 & 0.43325421  \\\\\n",
       "\twait & -0.02099486  & -0.005848262 &  0.315824769 &  0.299620997 &  1.000000000 &  0.366849504 & 0.56539527  \\\\\n",
       "\tclean & -0.00799814  &  0.002919032 &  0.789004748 &  0.516460748 &  0.366849504 &  1.000000000 & 0.62814674  \\\\\n",
       "\toverall &  0.34242021  &  0.088297655 &  0.577726856 &  0.433254206 &  0.565395275 &  0.628146742 & 1.00000000  \\\\\n",
       "\\end{tabular}\n"
      ],
      "text/markdown": [
       "\n",
       "| <!--/--> | num.child | distance | rides | games | wait | clean | overall | \n",
       "|---|---|---|---|---|---|---|\n",
       "| num.child |  1.00000000  | -0.012136454 | -0.027697383 |  0.012343448 | -0.020994861 | -0.007998140 | 0.34242021   | \n",
       "| distance | -0.01213645  |  1.000000000 | -0.008598235 | -0.008036711 | -0.005848262 |  0.002919032 | 0.08829766   | \n",
       "| rides | -0.02769738  | -0.008598235 |  1.000000000 |  0.453413358 |  0.315824769 |  0.789004748 | 0.57772686   | \n",
       "| games |  0.01234345  | -0.008036711 |  0.453413358 |  1.000000000 |  0.299620997 |  0.516460748 | 0.43325421   | \n",
       "| wait | -0.02099486  | -0.005848262 |  0.315824769 |  0.299620997 |  1.000000000 |  0.366849504 | 0.56539527   | \n",
       "| clean | -0.00799814  |  0.002919032 |  0.789004748 |  0.516460748 |  0.366849504 |  1.000000000 | 0.62814674   | \n",
       "| overall |  0.34242021  |  0.088297655 |  0.577726856 |  0.433254206 |  0.565395275 |  0.628146742 | 1.00000000   | \n",
       "\n",
       "\n"
      ],
      "text/plain": [
       "          num.child   distance     rides        games        wait        \n",
       "num.child  1.00000000 -0.012136454 -0.027697383  0.012343448 -0.020994861\n",
       "distance  -0.01213645  1.000000000 -0.008598235 -0.008036711 -0.005848262\n",
       "rides     -0.02769738 -0.008598235  1.000000000  0.453413358  0.315824769\n",
       "games      0.01234345 -0.008036711  0.453413358  1.000000000  0.299620997\n",
       "wait      -0.02099486 -0.005848262  0.315824769  0.299620997  1.000000000\n",
       "clean     -0.00799814  0.002919032  0.789004748  0.516460748  0.366849504\n",
       "overall    0.34242021  0.088297655  0.577726856  0.433254206  0.565395275\n",
       "          clean        overall   \n",
       "num.child -0.007998140 0.34242021\n",
       "distance   0.002919032 0.08829766\n",
       "rides      0.789004748 0.57772686\n",
       "games      0.516460748 0.43325421\n",
       "wait       0.366849504 0.56539527\n",
       "clean      1.000000000 0.62814674\n",
       "overall    0.628146742 1.00000000"
      ]
     },
     "metadata": {},
     "output_type": "display_data"
    }
   ],
   "source": [
    "cor(df[,2:8])"
   ]
  },
  {
   "cell_type": "code",
   "execution_count": 16,
   "metadata": {},
   "outputs": [
    {
     "data": {
      "image/png": "[encoded data removed]",
      "text/plain": [
       "Plot with title \"\""
      ]
     },
     "metadata": {},
     "output_type": "display_data"
    }
   ],
   "source": [
    "corrplot.mixed(corr=cor(df[ , 2:8], use=\"complete.obs\"),upper=\"ellipse\", tl.pos=\"lt\")"
   ]
  },
  {
   "cell_type": "markdown",
   "metadata": {},
   "source": [
    "A correlation plot produced using corrplot.mixed() from the corrplot package is an easy way to visualize all of the correlations in the data.  Numeric values of r are shown in the lower triangle of the matrix. The upper triangle displays ellipses (because we used the argument upper=\"ellipse\"). These ellipses are tighter, progressively closer to being lines, for larger values of r, and are rounder, more like circles for r near zero. They are also shaded blue for positive direction, and red for negative (and show corresponding positive or negative slope).\n",
    "\n",
    "Correlation coefficient r measures the linear association between two variables. If\n",
    "the relationship between two variables is not linear, it would be misleading to interpret\n",
    "r."
   ]
  },
  {
   "cell_type": "markdown",
   "metadata": {},
   "source": [
    "# Modeling"
   ]
  },
  {
   "cell_type": "markdown",
   "metadata": {},
   "source": [
    "Now we are ready for model selection and validation process. We start with the Linear Model with a Single Predictor.\n",
    "\n",
    "The goal of a satisfaction drivers analysis is to discover relationships between customers’\n",
    "satisfaction with features of the service (or product) and their overall experience.\n",
    "For example, to what extent is satisfaction with the park’s rides related to\n",
    "overall experience? Is the relationship strong or weak?\n",
    "\n",
    "Like most other R functions, *lm()* returns an object that we can save and use for\n",
    "other purposes. Typically, we assign the result of *lm()* to an object that is used in\n",
    "subsequent lines of code. For example, we can assign the result of *lm()* to a new\n",
    "object *m1*:"
   ]
  },
  {
   "cell_type": "code",
   "execution_count": 17,
   "metadata": {},
   "outputs": [],
   "source": [
    "m1=lm(overall ∼ rides, data=df)"
   ]
  },
  {
   "cell_type": "markdown",
   "metadata": {},
   "source": [
    "In the output, R repeats the model for reference and reports\n",
    "two coefficients, which are the intercept and the slope of the fitted line. Those\n",
    "can be used to determine the best estimate for any respondent’s report of overall\n",
    "based on knowing his or her value for rides. "
   ]
  },
  {
   "cell_type": "code",
   "execution_count": 18,
   "metadata": {},
   "outputs": [
    {
     "data": {
      "text/html": [
       "<dl class=dl-horizontal>\n",
       "\t<dt>(Intercept)</dt>\n",
       "\t\t<dd>-84.9968794504225</dd>\n",
       "\t<dt>rides</dt>\n",
       "\t\t<dd>1.71517105136004</dd>\n",
       "</dl>\n"
      ],
      "text/latex": [
       "\\begin{description*}\n",
       "\\item[(Intercept)] -84.9968794504225\n",
       "\\item[rides] 1.71517105136004\n",
       "\\end{description*}\n"
      ],
      "text/markdown": [
       "(Intercept)\n",
       ":   -84.9968794504225rides\n",
       ":   1.71517105136004\n",
       "\n"
      ],
      "text/plain": [
       "(Intercept)       rides \n",
       " -84.996879    1.715171 "
      ]
     },
     "metadata": {},
     "output_type": "display_data"
    }
   ],
   "source": [
    "m1$coefficients"
   ]
  },
  {
   "cell_type": "code",
   "execution_count": 19,
   "metadata": {},
   "outputs": [
    {
     "data": {
      "text/html": [
       "'double'"
      ],
      "text/latex": [
       "'double'"
      ],
      "text/markdown": [
       "'double'"
      ],
      "text/plain": [
       "[1] \"double\""
      ]
     },
     "metadata": {},
     "output_type": "display_data"
    }
   ],
   "source": [
    "typeof(m1$coefficients)"
   ]
  },
  {
   "cell_type": "markdown",
   "metadata": {},
   "source": [
    "For example, from this model we\n",
    "would expect that a customer who gives a rating of 90 for satisfaction with rides\n",
    "would give an overall rating of:"
   ]
  },
  {
   "cell_type": "code",
   "execution_count": 20,
   "metadata": {},
   "outputs": [
    {
     "data": {
      "text/html": [
       "<strong>(Intercept):</strong> 69.3685151719808"
      ],
      "text/latex": [
       "\\textbf{(Intercept):} 69.3685151719808"
      ],
      "text/markdown": [
       "**(Intercept):** 69.3685151719808"
      ],
      "text/plain": [
       "(Intercept) \n",
       "   69.36852 "
      ]
     },
     "metadata": {},
     "output_type": "display_data"
    }
   ],
   "source": [
    "m1$coefficients[1]+m1$coefficients[2]*90"
   ]
  },
  {
   "cell_type": "code",
   "execution_count": 21,
   "metadata": {},
   "outputs": [
    {
     "data": {
      "image/png": "[encoded data removed]",
      "text/plain": [
       "plot without title"
      ]
     },
     "metadata": {},
     "output_type": "display_data"
    }
   ],
   "source": [
    "plot(overall ∼ rides, data=df,xlab=\"Satisfaction with Rides\", ylab=\"Overall Satisfaction\")\n",
    "abline(m1, col=\"blue\")"
   ]
  },
  {
   "cell_type": "markdown",
   "metadata": {},
   "source": [
    "The result is shown in *abline()* recognizes that it is dealing with an lm\n",
    "object and uses the slope and the intercept from m1 to draw the line."
   ]
  },
  {
   "cell_type": "markdown",
   "metadata": {},
   "source": [
    "If you want more details about output"
   ]
  },
  {
   "cell_type": "code",
   "execution_count": 22,
   "metadata": {},
   "outputs": [
    {
     "data": {
      "text/plain": [
       "\n",
       "Call:\n",
       "lm(formula = overall ~ rides, data = df)\n",
       "\n",
       "Residuals:\n",
       "    Min      1Q  Median      3Q     Max \n",
       "-33.926 -10.358   0.635   8.964  35.359 \n",
       "\n",
       "Coefficients:\n",
       "            Estimate Std. Error t value Pr(>|t|)    \n",
       "(Intercept) -84.9969     8.7483  -9.716   <2e-16 ***\n",
       "rides         1.7152     0.1086  15.795   <2e-16 ***\n",
       "---\n",
       "Signif. codes:  0 '***' 0.001 '**' 0.01 '*' 0.05 '.' 0.1 ' ' 1\n",
       "\n",
       "Residual standard error: 13.14 on 498 degrees of freedom\n",
       "Multiple R-squared:  0.3338,\tAdjusted R-squared:  0.3324 \n",
       "F-statistic: 249.5 on 1 and 498 DF,  p-value: < 2.2e-16\n"
      ]
     },
     "metadata": {},
     "output_type": "display_data"
    }
   ],
   "source": [
    "summary(m1)"
   ]
  },
  {
   "cell_type": "code",
   "execution_count": 23,
   "metadata": {},
   "outputs": [
    {
     "name": "stdout",
     "output_type": "stream",
     "text": [
      "[1] 15.80276\n"
     ]
    }
   ],
   "source": [
    "t_value <- 1.7146/ 0.1085  \n",
    "print(t_value)"
   ]
  },
  {
   "cell_type": "code",
   "execution_count": 24,
   "metadata": {},
   "outputs": [
    {
     "name": "stdout",
     "output_type": "stream",
     "text": [
      "[1] 0\n"
     ]
    }
   ],
   "source": [
    "p_value<-1-pt(t_value, df=498)\n",
    "print(p_value)"
   ]
  },
  {
   "cell_type": "code",
   "execution_count": 25,
   "metadata": {},
   "outputs": [
    {
     "data": {
      "text/html": [
       "1.928"
      ],
      "text/latex": [
       "1.928"
      ],
      "text/markdown": [
       "1.928"
      ],
      "text/plain": [
       "[1] 1.928"
      ]
     },
     "metadata": {},
     "output_type": "display_data"
    },
    {
     "data": {
      "text/html": [
       "1.501"
      ],
      "text/latex": [
       "1.501"
      ],
      "text/markdown": [
       "1.501"
      ],
      "text/plain": [
       "[1] 1.501"
      ]
     },
     "metadata": {},
     "output_type": "display_data"
    }
   ],
   "source": [
    "alpha=0.05\n",
    "conf_int_l<-1.7146  -qt(alpha/2,498)*0.1085  \n",
    "conf_int_u<-1.7146  + qt(alpha/2,498)*0.1085  \n",
    "round(conf_int_l,3)\n",
    "round(conf_int_u,3)"
   ]
  },
  {
   "cell_type": "code",
   "execution_count": 26,
   "metadata": {},
   "outputs": [
    {
     "data": {
      "text/html": [
       "<table>\n",
       "<thead><tr><th></th><th scope=col>2.5 %</th><th scope=col>97.5 %</th></tr></thead>\n",
       "<tbody>\n",
       "\t<tr><th scope=row>(Intercept)</th><td>-102.185</td><td>-67.809 </td></tr>\n",
       "\t<tr><th scope=row>rides</th><td>   1.502</td><td>  1.929 </td></tr>\n",
       "</tbody>\n",
       "</table>\n"
      ],
      "text/latex": [
       "\\begin{tabular}{r|ll}\n",
       "  & 2.5 \\% & 97.5 \\%\\\\\n",
       "\\hline\n",
       "\t(Intercept) & -102.185 & -67.809 \\\\\n",
       "\trides &    1.502 &   1.929 \\\\\n",
       "\\end{tabular}\n"
      ],
      "text/markdown": [
       "\n",
       "| <!--/--> | 2.5 % | 97.5 % | \n",
       "|---|---|\n",
       "| (Intercept) | -102.185 | -67.809  | \n",
       "| rides |    1.502 |   1.929  | \n",
       "\n",
       "\n"
      ],
      "text/plain": [
       "            2.5 %    97.5 % \n",
       "(Intercept) -102.185 -67.809\n",
       "rides          1.502   1.929"
      ]
     },
     "metadata": {},
     "output_type": "display_data"
    }
   ],
   "source": [
    "round(confint(m1),3)"
   ]
  },
  {
   "cell_type": "markdown",
   "metadata": {},
   "source": [
    "Cecking Model Validity and Model Fit"
   ]
  },
  {
   "cell_type": "code",
   "execution_count": 27,
   "metadata": {
    "scrolled": false
   },
   "outputs": [
    {
     "data": {
      "image/png": "[encoded data removed]",
      "text/plain": [
       "Plot with title \"\""
      ]
     },
     "metadata": {},
     "output_type": "display_data"
    }
   ],
   "source": [
    "par(mfrow=c(2,2))\n",
    "plot(m1)"
   ]
  },
  {
   "cell_type": "markdown",
   "metadata": {},
   "source": [
    "1. The first plot (in the upper left corner) shows the fitted values versus residuals for $m1$. There is no obvious pattern between the fitted values for overall satisfaction and the residuals; this is consistent with the idea that **the residuals are due to random error**, and supports the notion that the model is adequate.\n",
    "2. The second plot in the lower left of figure is similar to the first, except that instead of plotting the raw residual value, it plots the square root of the standardized residual. Again, there should be no clear pattern; if there were it might indicate a nonlinear relationship. Observations with high residuals are flagged as potential outliers, and R labels them with row numbers in case we wish to inspect them in the data frame. A common pattern in residual plots is a **cone or funnel**, where the range of errors gets progressively **larger for larger fitted values**. This is called **heteroskedasticity** and is a violation of linear model assumptions. Sometimes a transformation of the predictor or outcome variable will resolve heteroskedasticity.\n",
    "3. The third result of *plot()* for *lm* objects is a *Normal QQ plot*. A QQ plot helps you see whether the **residuals follow a normal distribution**, another key assumption. It compares the values that residuals would be expected to take if they are normally distributed, versus their actual values. When the model is appropriate, these points are similar and fall close to a diagonal line; when the relationship between the variables is nonlinear or otherwise does not match the assumption, the points deviate from the diagonal line. In the present case, the QQ plot suggests that the data fits the assumption of the model.\n",
    "4. The final plot in the lower right panel of figure again helps to **identify potential outliers**, observations that may come from a different distribution than the others. Outliers are a problem because, if they are far from other points, they unduly influence the fitted line. We do not want one or a very few observations to have a large effect on the coefficients. The lower right plot plots the leverage of each point, a measure of how much influence the point has on the model coefficients. When a point has a high residual and high leverage,b**it indicates that the point has both a different pattern (residual) and undue influence (leverage)**. One measure of the leverage of a data point is Cook’s distance, an estimate of how much predicted (y) values would change if the model were re-estimated with that point eliminated from the data. If you have observations with **high Cook’s distance, this chart would show dotted lines for the distances**; in the present case, there are none. Still, in the lower right of figure, three points are automatically labeled with row numbers because they are potentially problematic outliers based on high standardized residual distance and leverage on the model.\n"
   ]
  },
  {
   "cell_type": "markdown",
   "metadata": {},
   "source": [
    "## Dealing with Outliers"
   ]
  },
  {
   "cell_type": "markdown",
   "metadata": {},
   "source": [
    "\n",
    "I do not recommend routinely remove outliers yet I do recommend to inspect them and determine whether\n",
    "there is a problem with the data. Let inspect the identified points by selecting those\n",
    "rows:"
   ]
  },
  {
   "cell_type": "code",
   "execution_count": 28,
   "metadata": {},
   "outputs": [
    {
     "data": {
      "text/html": [
       "<table>\n",
       "<thead><tr><th></th><th scope=col>weekend</th><th scope=col>num.child</th><th scope=col>distance</th><th scope=col>rides</th><th scope=col>games</th><th scope=col>wait</th><th scope=col>clean</th><th scope=col>overall</th><th scope=col>logdist</th></tr></thead>\n",
       "<tbody>\n",
       "\t<tr><th scope=row>57</th><td>yes     </td><td>2       </td><td>63.29248</td><td>92      </td><td>83      </td><td>93      </td><td>98      </td><td>102     </td><td>4.147767</td></tr>\n",
       "\t<tr><th scope=row>129</th><td>yes     </td><td>0       </td><td>11.89550</td><td>70      </td><td>72      </td><td>54      </td><td>74      </td><td>  6     </td><td>2.476161</td></tr>\n",
       "\t<tr><th scope=row>295</th><td>no      </td><td>0       </td><td>11.74474</td><td>93      </td><td>78      </td><td>67      </td><td>89      </td><td> 46     </td><td>2.463406</td></tr>\n",
       "</tbody>\n",
       "</table>\n"
      ],
      "text/latex": [
       "\\begin{tabular}{r|lllllllll}\n",
       "  & weekend & num.child & distance & rides & games & wait & clean & overall & logdist\\\\\n",
       "\\hline\n",
       "\t57 & yes      & 2        & 63.29248 & 92       & 83       & 93       & 98       & 102      & 4.147767\\\\\n",
       "\t129 & yes      & 0        & 11.89550 & 70       & 72       & 54       & 74       &   6      & 2.476161\\\\\n",
       "\t295 & no       & 0        & 11.74474 & 93       & 78       & 67       & 89       &  46      & 2.463406\\\\\n",
       "\\end{tabular}\n"
      ],
      "text/markdown": [
       "\n",
       "| <!--/--> | weekend | num.child | distance | rides | games | wait | clean | overall | logdist | \n",
       "|---|---|---|\n",
       "| 57 | yes      | 2        | 63.29248 | 92       | 83       | 93       | 98       | 102      | 4.147767 | \n",
       "| 129 | yes      | 0        | 11.89550 | 70       | 72       | 54       | 74       |   6      | 2.476161 | \n",
       "| 295 | no       | 0        | 11.74474 | 93       | 78       | 67       | 89       |  46      | 2.463406 | \n",
       "\n",
       "\n"
      ],
      "text/plain": [
       "    weekend num.child distance rides games wait clean overall logdist \n",
       "57  yes     2         63.29248 92    83    93   98    102     4.147767\n",
       "129 yes     0         11.89550 70    72    54   74      6     2.476161\n",
       "295 no      0         11.74474 93    78    67   89     46     2.463406"
      ]
     },
     "metadata": {},
     "output_type": "display_data"
    }
   ],
   "source": [
    "df[c(57, 129, 295),]"
   ]
  },
  {
   "cell_type": "markdown",
   "metadata": {},
   "source": [
    "In this case, none of the data points is obviously invalid (for instance, with values below\n",
    "1 or greater than 100). Overall, figure looks good and suggests that the model relating overall satisfaction\n",
    "to satisfaction with rides is reasonable."
   ]
  },
  {
   "cell_type": "markdown",
   "metadata": {},
   "source": [
    "Now that we’ve covered the basics of linear models using just one predictor, we\n",
    "turn to the problem of assessing multiple drivers of satisfaction. Our goal is to sort\n",
    "through all of the features of the park—rides, games, wait times, and cleanliness—to\n",
    "determine which ones are most closely related to overall satisfaction."
   ]
  },
  {
   "cell_type": "markdown",
   "metadata": {},
   "source": [
    "## Including Variables"
   ]
  },
  {
   "cell_type": "code",
   "execution_count": 29,
   "metadata": {
    "scrolled": false
   },
   "outputs": [
    {
     "data": {
      "text/plain": [
       "\n",
       "Call:\n",
       "lm(formula = overall ~ rides + games + wait + clean, data = df)\n",
       "\n",
       "Residuals:\n",
       "    Min      1Q  Median      3Q     Max \n",
       "-32.101  -7.266   1.274   7.582  28.695 \n",
       "\n",
       "Coefficients:\n",
       "              Estimate Std. Error t value Pr(>|t|)    \n",
       "(Intercept) -125.16246    8.26476 -15.144  < 2e-16 ***\n",
       "rides          0.53948    0.14753   3.657 0.000283 ***\n",
       "games          0.16085    0.07115   2.261 0.024218 *  \n",
       "wait           0.55497    0.04936  11.244  < 2e-16 ***\n",
       "clean          0.96028    0.16394   5.858 8.57e-09 ***\n",
       "---\n",
       "Signif. codes:  0 '***' 0.001 '**' 0.01 '*' 0.05 '.' 0.1 ' ' 1\n",
       "\n",
       "Residual standard error: 10.92 on 495 degrees of freedom\n",
       "Multiple R-squared:  0.5427,\tAdjusted R-squared:  0.539 \n",
       "F-statistic: 146.8 on 4 and 495 DF,  p-value: < 2.2e-16\n"
      ]
     },
     "metadata": {},
     "output_type": "display_data"
    }
   ],
   "source": [
    "m2 <- lm(overall ∼ rides + games + wait + clean, data=df)\n",
    "summary(m2)"
   ]
  },
  {
   "cell_type": "markdown",
   "metadata": {},
   "source": [
    "The R-squared increased to 0.5586, meaning that about half of the variation in overall\n",
    "ratings is explained by the ratings for specific features. The residual standard error\n",
    "is now 10.59, meaning that the predictions are more accurate. Our residuals also\n",
    "appear to be symmetric."
   ]
  },
  {
   "cell_type": "code",
   "execution_count": 30,
   "metadata": {},
   "outputs": [
    {
     "data": {
      "image/png": "[encoded data removed]",
      "text/plain": [
       "Plot with title \"\""
      ]
     },
     "metadata": {},
     "output_type": "display_data"
    }
   ],
   "source": [
    "par(mfrow=c(2,2))\n",
    "plot(m2)"
   ]
  },
  {
   "cell_type": "markdown",
   "metadata": {},
   "source": [
    "Next we examine the model coefficients. Each coefficient represents the strength\n",
    "of the relationship between satisfaction with that feature and overall satisfaction,\n",
    "conditional on the values of the other predictors. All four features are identified\n",
    "as being statistically significant."
   ]
  },
  {
   "cell_type": "code",
   "execution_count": 31,
   "metadata": {
    "scrolled": false
   },
   "outputs": [
    {
     "name": "stderr",
     "output_type": "stream",
     "text": [
      "Warning message:\n",
      "\"Ignoring unknown aesthetics: xmin, xmax\""
     ]
    },
    {
     "data": {},
     "metadata": {},
     "output_type": "display_data"
    },
    {
     "data": {
      "image/png": "[encoded data removed]",
      "text/plain": [
       "plot without title"
      ]
     },
     "metadata": {},
     "output_type": "display_data"
    }
   ],
   "source": [
    "coefplot(m2, intercept=FALSE, outerCI=1.96, lwdOuter=1.5, ylab=\"Rating of Feature\",xlab=\"Association with Overall Satisfaction\")"
   ]
  },
  {
   "cell_type": "markdown",
   "metadata": {},
   "source": [
    "We use coefplot() arguments to set the outer confidence interval to a width\n",
    "of 1.96 standard errors (using outerCI=1.96, which corresponds to a 95%\n",
    "confidence interval) and to increase the size of the plotted lines slightly with\n",
    "lwdOuter=1.5.\n",
    "<br>The result is shown in Figure, where we see that **satisfaction with cleanliness is estimated\n",
    "to be the most important feature** associated with overall satisfaction, followed\n",
    "by satisfaction with the rides and wait times. Satisfaction with games is estimated\n",
    "to be relatively less important.\n",
    "<br>A plot of coefficients is often a key output from a satisfaction drivers analysis. Sorting\n",
    "the plot so that the coefficients are in order based on their estimated coefficient\n",
    "may make it easier to quickly identify the features that are most closely related to\n",
    "overall satisfaction if you have a large number of predictors."
   ]
  },
  {
   "cell_type": "markdown",
   "metadata": {},
   "source": [
    "Now that we have two model objects, m1 and m2 we might ask which one is better.\n",
    "One way to evaluate models is to compare their R-squared values."
   ]
  },
  {
   "cell_type": "code",
   "execution_count": 32,
   "metadata": {},
   "outputs": [
    {
     "data": {
      "text/html": [
       "0.332430505598762"
      ],
      "text/latex": [
       "0.332430505598762"
      ],
      "text/markdown": [
       "0.332430505598762"
      ],
      "text/plain": [
       "[1] 0.3324305"
      ]
     },
     "metadata": {},
     "output_type": "display_data"
    },
    {
     "data": {
      "text/html": [
       "0.538966781918842"
      ],
      "text/latex": [
       "0.538966781918842"
      ],
      "text/markdown": [
       "0.538966781918842"
      ],
      "text/plain": [
       "[1] 0.5389668"
      ]
     },
     "metadata": {},
     "output_type": "display_data"
    }
   ],
   "source": [
    "summary(m1)$adj.r.squared\n",
    "summary(m2)$adj.r.squared\n"
   ]
  },
  {
   "cell_type": "markdown",
   "metadata": {},
   "source": [
    "and AIC criterion, which is given by:\n",
    "$$AIC = -2\\log L + k \\times edf ,$$\n",
    "where $L$ is likelihood function (in our case based on normal distribution) and $edf$ is the number of free parameters for regression model. In OLS it is equal number of independent variables. "
   ]
  },
  {
   "cell_type": "code",
   "execution_count": 33,
   "metadata": {},
   "outputs": [
    {
     "data": {
      "text/html": [
       "<ol class=list-inline>\n",
       "\t<li>2</li>\n",
       "\t<li>2577.28834706684</li>\n",
       "</ol>\n"
      ],
      "text/latex": [
       "\\begin{enumerate*}\n",
       "\\item 2\n",
       "\\item 2577.28834706684\n",
       "\\end{enumerate*}\n"
      ],
      "text/markdown": [
       "1. 2\n",
       "2. 2577.28834706684\n",
       "\n",
       "\n"
      ],
      "text/plain": [
       "[1]    2.000 2577.288"
      ]
     },
     "metadata": {},
     "output_type": "display_data"
    },
    {
     "data": {
      "text/html": [
       "<ol class=list-inline>\n",
       "\t<li>5</li>\n",
       "\t<li>2395.18049016794</li>\n",
       "</ol>\n"
      ],
      "text/latex": [
       "\\begin{enumerate*}\n",
       "\\item 5\n",
       "\\item 2395.18049016794\n",
       "\\end{enumerate*}\n"
      ],
      "text/markdown": [
       "1. 5\n",
       "2. 2395.18049016794\n",
       "\n",
       "\n"
      ],
      "text/plain": [
       "[1]    5.00 2395.18"
      ]
     },
     "metadata": {},
     "output_type": "display_data"
    }
   ],
   "source": [
    "extractAIC(m1,k=2)\n",
    "extractAIC(m2,k=2)"
   ]
  },
  {
   "cell_type": "markdown",
   "metadata": {},
   "source": [
    "To compare the predictions of the models visually, we plot the fitted versus actual\n",
    "values for each:"
   ]
  },
  {
   "cell_type": "code",
   "execution_count": 34,
   "metadata": {},
   "outputs": [
    {
     "data": {
      "image/png": "[encoded data removed]",
      "text/plain": [
       "plot without title"
      ]
     },
     "metadata": {},
     "output_type": "display_data"
    }
   ],
   "source": [
    "plot(df$overall, fitted(m1), col=\"red\",xlim=c(0,100), ylim=c(0,100), xlab=\"Actual Overall Satisfaction\", ylab=\"Fitted Overall Satisfaction\")\n",
    "points(df$overall, fitted(m2), col=\"blue\")\n",
    "legend(\"topleft\", legend=c(\"model 1\", \"model 2\"),col=c(\"red\", \"blue\"), pch=1)"
   ]
  },
  {
   "cell_type": "markdown",
   "metadata": {},
   "source": [
    "If the model fits the data perfectly, it would **fall along a 45◦ line in this plot**, but, of\n",
    "course, it is nearly impossible to fit customer satisfaction data perfectly. By comparing\n",
    "the red and the blue points in the resulting plot in figure, you can see that\n",
    "the **blue cloud of points is more tightly clustered along a diagonal line**, which shows\n",
    "that m2 explains more of the variation in the data than m1."
   ]
  },
  {
   "cell_type": "markdown",
   "metadata": {},
   "source": [
    "# Comparing Nested Models"
   ]
  },
  {
   "cell_type": "markdown",
   "metadata": {},
   "source": [
    "For a more formal test, which is possible because the models here are nested.\n",
    " We can use anova() function to determine whether m2 explains more\n",
    "of the variation than m1:"
   ]
  },
  {
   "cell_type": "code",
   "execution_count": 35,
   "metadata": {
    "scrolled": true
   },
   "outputs": [
    {
     "data": {
      "text/html": [
       "<table>\n",
       "<thead><tr><th scope=col>Res.Df</th><th scope=col>RSS</th><th scope=col>Df</th><th scope=col>Sum of Sq</th><th scope=col>F</th><th scope=col>Pr(&gt;F)</th></tr></thead>\n",
       "<tbody>\n",
       "\t<tr><td>498         </td><td>85921.11    </td><td>NA          </td><td>     NA     </td><td>      NA    </td><td>          NA</td></tr>\n",
       "\t<tr><td>495         </td><td>58980.91    </td><td> 3          </td><td>26940.2     </td><td>75.36562    </td><td>3.641831e-40</td></tr>\n",
       "</tbody>\n",
       "</table>\n"
      ],
      "text/latex": [
       "\\begin{tabular}{r|llllll}\n",
       " Res.Df & RSS & Df & Sum of Sq & F & Pr(>F)\\\\\n",
       "\\hline\n",
       "\t 498          & 85921.11     & NA           &      NA      &       NA     &           NA\\\\\n",
       "\t 495          & 58980.91     &  3           & 26940.2      & 75.36562     & 3.641831e-40\\\\\n",
       "\\end{tabular}\n"
      ],
      "text/markdown": [
       "\n",
       "Res.Df | RSS | Df | Sum of Sq | F | Pr(>F) | \n",
       "|---|---|\n",
       "| 498          | 85921.11     | NA           |      NA      |       NA     |           NA | \n",
       "| 495          | 58980.91     |  3           | 26940.2      | 75.36562     | 3.641831e-40 | \n",
       "\n",
       "\n"
      ],
      "text/plain": [
       "  Res.Df RSS      Df Sum of Sq F        Pr(>F)      \n",
       "1 498    85921.11 NA      NA         NA           NA\n",
       "2 495    58980.91  3 26940.2   75.36562 3.641831e-40"
      ]
     },
     "metadata": {},
     "output_type": "display_data"
    }
   ],
   "source": [
    "anova(m1, m2)"
   ]
  },
  {
   "cell_type": "markdown",
   "metadata": {},
   "source": [
    "The low p-value indicates that the additional predictors in m2 significantly improve\n",
    "the fit of the model. If these two models were the only ones under consideration, we\n",
    "would interpret m2 instead of m1."
   ]
  },
  {
   "cell_type": "markdown",
   "metadata": {},
   "source": [
    "Thus far, we have interpreted raw coefficients in order to evaluate the contributions\n",
    "of ratings on the shared 100-point scale. However, if the variables have different\n",
    "scales, such as a survey where rides is rated on a 1–10 scale while cleanliness is\n",
    "rated 1–5 scale, then their coefficient values would not be directly comparable. In\n",
    "the present data, this occurs with the distance and logdist variables, which\n",
    "are not on a 100-point scale.\n",
    "<br>\n",
    "<br>When you wish to **compare coefficients, it can be helpful to standardize data on a\n",
    "common scale before fitting a model** (and after transforming any variables to a more\n",
    "normal scale). The most common standardization converts values to zero-centered\n",
    "units of standard deviation. This subtracts a variable’s mean from each observation\n",
    "and then divides by the standard deviation (sd()). This could be done by:"
   ]
  },
  {
   "cell_type": "code",
   "execution_count": 36,
   "metadata": {},
   "outputs": [],
   "source": [
    "df.std <- df[ , -3] # sat but remove distance\n",
    "df.std[ , 3:8] <- scale(df.std[ , 3:8])"
   ]
  },
  {
   "cell_type": "code",
   "execution_count": 37,
   "metadata": {},
   "outputs": [
    {
     "data": {
      "text/html": [
       "<table>\n",
       "<thead><tr><th scope=col>weekend</th><th scope=col>num.child</th><th scope=col>rides</th><th scope=col>games</th><th scope=col>wait</th><th scope=col>clean</th><th scope=col>overall</th><th scope=col>logdist</th></tr></thead>\n",
       "<tbody>\n",
       "\t<tr><td>yes        </td><td>0          </td><td> 0.2987971 </td><td>-0.7561865 </td><td>-0.87575676</td><td> 0.1184417 </td><td>-0.2408509 </td><td>1.7886823  </td></tr>\n",
       "\t<tr><td>yes        </td><td>2          </td><td> 0.2987971 </td><td>-0.1408004 </td><td> 0.61236008</td><td>-0.2711692 </td><td> 0.9410106 </td><td>0.3226360  </td></tr>\n",
       "\t<tr><td>no         </td><td>1          </td><td>-0.2552148 </td><td> 0.1053541 </td><td> 0.05431626</td><td> 0.1184417 </td><td> 0.5677911 </td><td>1.1862757  </td></tr>\n",
       "\t<tr><td>yes        </td><td>0          </td><td> 0.2987971 </td><td>-0.7561865 </td><td>-0.41072025</td><td> 0.3132472 </td><td>-0.9250865 </td><td>0.2803106  </td></tr>\n",
       "\t<tr><td>no         </td><td>4          </td><td>-0.4398855 </td><td> 1.0899720 </td><td> 0.42634547</td><td>-0.2711692 </td><td> 1.0032138 </td><td>1.0385034  </td></tr>\n",
       "\t<tr><td>no         </td><td>5          </td><td>-0.8092268 </td><td> 0.1053541 </td><td>-2.08485169</td><td>-1.6348075 </td><td>-1.4849157 </td><td>0.1452467  </td></tr>\n",
       "</tbody>\n",
       "</table>\n"
      ],
      "text/latex": [
       "\\begin{tabular}{r|llllllll}\n",
       " weekend & num.child & rides & games & wait & clean & overall & logdist\\\\\n",
       "\\hline\n",
       "\t yes         & 0           &  0.2987971  & -0.7561865  & -0.87575676 &  0.1184417  & -0.2408509  & 1.7886823  \\\\\n",
       "\t yes         & 2           &  0.2987971  & -0.1408004  &  0.61236008 & -0.2711692  &  0.9410106  & 0.3226360  \\\\\n",
       "\t no          & 1           & -0.2552148  &  0.1053541  &  0.05431626 &  0.1184417  &  0.5677911  & 1.1862757  \\\\\n",
       "\t yes         & 0           &  0.2987971  & -0.7561865  & -0.41072025 &  0.3132472  & -0.9250865  & 0.2803106  \\\\\n",
       "\t no          & 4           & -0.4398855  &  1.0899720  &  0.42634547 & -0.2711692  &  1.0032138  & 1.0385034  \\\\\n",
       "\t no          & 5           & -0.8092268  &  0.1053541  & -2.08485169 & -1.6348075  & -1.4849157  & 0.1452467  \\\\\n",
       "\\end{tabular}\n"
      ],
      "text/markdown": [
       "\n",
       "weekend | num.child | rides | games | wait | clean | overall | logdist | \n",
       "|---|---|---|---|---|---|\n",
       "| yes         | 0           |  0.2987971  | -0.7561865  | -0.87575676 |  0.1184417  | -0.2408509  | 1.7886823   | \n",
       "| yes         | 2           |  0.2987971  | -0.1408004  |  0.61236008 | -0.2711692  |  0.9410106  | 0.3226360   | \n",
       "| no          | 1           | -0.2552148  |  0.1053541  |  0.05431626 |  0.1184417  |  0.5677911  | 1.1862757   | \n",
       "| yes         | 0           |  0.2987971  | -0.7561865  | -0.41072025 |  0.3132472  | -0.9250865  | 0.2803106   | \n",
       "| no          | 4           | -0.4398855  |  1.0899720  |  0.42634547 | -0.2711692  |  1.0032138  | 1.0385034   | \n",
       "| no          | 5           | -0.8092268  |  0.1053541  | -2.08485169 | -1.6348075  | -1.4849157  | 0.1452467   | \n",
       "\n",
       "\n"
      ],
      "text/plain": [
       "  weekend num.child rides      games      wait        clean      overall   \n",
       "1 yes     0          0.2987971 -0.7561865 -0.87575676  0.1184417 -0.2408509\n",
       "2 yes     2          0.2987971 -0.1408004  0.61236008 -0.2711692  0.9410106\n",
       "3 no      1         -0.2552148  0.1053541  0.05431626  0.1184417  0.5677911\n",
       "4 yes     0          0.2987971 -0.7561865 -0.41072025  0.3132472 -0.9250865\n",
       "5 no      4         -0.4398855  1.0899720  0.42634547 -0.2711692  1.0032138\n",
       "6 no      5         -0.8092268  0.1053541 -2.08485169 -1.6348075 -1.4849157\n",
       "  logdist  \n",
       "1 1.7886823\n",
       "2 0.3226360\n",
       "3 1.1862757\n",
       "4 0.2803106\n",
       "5 1.0385034\n",
       "6 0.1452467"
      ]
     },
     "metadata": {},
     "output_type": "display_data"
    }
   ],
   "source": [
    "head(df.std)"
   ]
  },
  {
   "cell_type": "markdown",
   "metadata": {},
   "source": [
    "## Model 3"
   ]
  },
  {
   "cell_type": "markdown",
   "metadata": {},
   "source": [
    "For the next step, we wonder whether satisfaction is different for customers who\n",
    "come on the weekend, travel farther, or have more children.We add these predictors\n",
    "to the model using the standardized data:"
   ]
  },
  {
   "cell_type": "code",
   "execution_count": 38,
   "metadata": {},
   "outputs": [
    {
     "data": {
      "text/plain": [
       "\n",
       "Call:\n",
       "lm(formula = overall ~ rides + games + wait + clean + weekend + \n",
       "    logdist + num.child, data = df.std)\n",
       "\n",
       "Residuals:\n",
       "     Min       1Q   Median       3Q      Max \n",
       "-1.60258 -0.39978  0.02281  0.41053  1.70036 \n",
       "\n",
       "Coefficients:\n",
       "            Estimate Std. Error t value Pr(>|t|)    \n",
       "(Intercept) -0.39447    0.04675  -8.438 3.63e-16 ***\n",
       "rides        0.20641    0.04210   4.903 1.29e-06 ***\n",
       "games        0.07134    0.03041   2.346   0.0194 *  \n",
       "wait         0.37871    0.02792  13.566  < 2e-16 ***\n",
       "clean        0.29033    0.04431   6.553 1.43e-10 ***\n",
       "weekendyes  -0.04370    0.05167  -0.846   0.3981    \n",
       "logdist      0.06557    0.02585   2.537   0.0115 *  \n",
       "num.child    0.23909    0.01720  13.904  < 2e-16 ***\n",
       "---\n",
       "Signif. codes:  0 '***' 0.001 '**' 0.01 '*' 0.05 '.' 0.1 ' ' 1\n",
       "\n",
       "Residual standard error: 0.5739 on 492 degrees of freedom\n",
       "Multiple R-squared:  0.6752,\tAdjusted R-squared:  0.6706 \n",
       "F-statistic: 146.1 on 7 and 492 DF,  p-value: < 2.2e-16\n"
      ]
     },
     "metadata": {},
     "output_type": "display_data"
    }
   ],
   "source": [
    "m3 <- lm(overall ∼ rides + games + wait + clean + weekend + logdist + num.child, data = df.std)\n",
    "summary(m3)"
   ]
  },
  {
   "cell_type": "markdown",
   "metadata": {},
   "source": [
    "When your data **includes factors**, you must be careful about the data type. For example,\n",
    "*num.child* is a numeric variable, ranging 0–5, but it doesn’t necessarily\n",
    "make sense to treat it as a number, as we did in m3. \n",
    "<br>\n",
    "<br>In doing so, we **implicitly assume\n",
    "that satisfaction goes up or down linearly as a function of the number of children**,\n",
    "and that the effect is the same for each additional child. (Anyone who has taken a\n",
    "group of children to an amusement park might guess that this is an unreasonable\n",
    "assumption.)\n",
    "We correct this by converting *num.child* to a **factor** and re-estimating the\n",
    "model:"
   ]
  },
  {
   "cell_type": "code",
   "execution_count": 39,
   "metadata": {},
   "outputs": [],
   "source": [
    "df.std$num.child.factor <- factor(df.std$num.child)"
   ]
  },
  {
   "cell_type": "code",
   "execution_count": 40,
   "metadata": {},
   "outputs": [
    {
     "data": {
      "text/plain": [
       "\n",
       "Call:\n",
       "lm(formula = overall ~ rides + games + wait + clean + weekend + \n",
       "    logdist + num.child.factor, data = df.std)\n",
       "\n",
       "Residuals:\n",
       "     Min       1Q   Median       3Q      Max \n",
       "-1.25150 -0.32994 -0.00513  0.31409  1.44218 \n",
       "\n",
       "Coefficients:\n",
       "                  Estimate Std. Error t value Pr(>|t|)    \n",
       "(Intercept)       -0.72670    0.04437 -16.378  < 2e-16 ***\n",
       "rides              0.22188    0.03496   6.347 5.01e-10 ***\n",
       "games              0.04299    0.02521   1.705   0.0888 .  \n",
       "wait               0.38241    0.02312  16.537  < 2e-16 ***\n",
       "clean              0.29755    0.03675   8.097 4.52e-15 ***\n",
       "weekendyes        -0.01880    0.04273  -0.440   0.6602    \n",
       "logdist            0.03154    0.02148   1.468   0.1426    \n",
       "num.child.factor1  1.06124    0.07049  15.056  < 2e-16 ***\n",
       "num.child.factor2  1.08519    0.05575  19.465  < 2e-16 ***\n",
       "num.child.factor3  1.03091    0.06946  14.841  < 2e-16 ***\n",
       "num.child.factor4  0.98893    0.07943  12.450  < 2e-16 ***\n",
       "num.child.factor5  1.04293    0.10253  10.172  < 2e-16 ***\n",
       "---\n",
       "Signif. codes:  0 '***' 0.001 '**' 0.01 '*' 0.05 '.' 0.1 ' ' 1\n",
       "\n",
       "Residual standard error: 0.4742 on 488 degrees of freedom\n",
       "Multiple R-squared:  0.7801,\tAdjusted R-squared:  0.7751 \n",
       "F-statistic: 157.4 on 11 and 488 DF,  p-value: < 2.2e-16\n"
      ]
     },
     "metadata": {},
     "output_type": "display_data"
    }
   ],
   "source": [
    "m4 <- lm(overall ∼ rides + games + wait + clean + weekend + logdist + num.child.factor, data=df.std)\n",
    "summary(m4)"
   ]
  },
  {
   "cell_type": "markdown",
   "metadata": {},
   "source": [
    "A striking thing about m4 is that **the increase in overall satisfaction is about the\n",
    "same regardless of how many children there are** in the party—about one standard\n",
    "deviation higher for any number of children. This suggests that we don’t actually\n",
    "need to estimate a different increase for each number of children. In fact, if the\n",
    "increase is the same for one child as for five children, attempting to fit a model that\n",
    "scales increasingly per child would result in a less accurate estimate.\n",
    "<br>\n",
    "<br>Instead, we declare a new variable called *has.child* that is TRUE when the party\n",
    "has children in it and FALSE when the party does not have children. We then\n",
    "estimate the model using that new factor variable. \n",
    "<br>\n",
    "<br>**We also drop weekend from the\n",
    "model because it doesn’t seem to be a significant predictor**:"
   ]
  },
  {
   "cell_type": "code",
   "execution_count": 41,
   "metadata": {
    "scrolled": true
   },
   "outputs": [
    {
     "data": {
      "text/plain": [
       "\n",
       "Call:\n",
       "lm(formula = overall ~ rides + games + wait + clean + logdist + \n",
       "    has.child, data = df.std)\n",
       "\n",
       "Residuals:\n",
       "     Min       1Q   Median       3Q      Max \n",
       "-1.26183 -0.33269 -0.00197  0.32233  1.43605 \n",
       "\n",
       "Coefficients:\n",
       "              Estimate Std. Error t value Pr(>|t|)    \n",
       "(Intercept)   -0.73590    0.03861 -19.058  < 2e-16 ***\n",
       "rides          0.22082    0.03466   6.370 4.33e-10 ***\n",
       "games          0.04424    0.02509   1.763   0.0785 .  \n",
       "wait           0.38335    0.02299  16.674  < 2e-16 ***\n",
       "clean          0.29785    0.03648   8.164 2.73e-15 ***\n",
       "logdist        0.03443    0.02124   1.621   0.1056    \n",
       "has.childTRUE  1.05429    0.04629  22.774  < 2e-16 ***\n",
       "---\n",
       "Signif. codes:  0 '***' 0.001 '**' 0.01 '*' 0.05 '.' 0.1 ' ' 1\n",
       "\n",
       "Residual standard error: 0.4727 on 493 degrees of freedom\n",
       "Multiple R-squared:  0.7792,\tAdjusted R-squared:  0.7765 \n",
       "F-statistic:   290 on 6 and 493 DF,  p-value: < 2.2e-16\n"
      ]
     },
     "metadata": {},
     "output_type": "display_data"
    }
   ],
   "source": [
    "df.std$has.child <- factor(df.std$num.child > 0)\n",
    "m5 <- lm(overall ∼ rides + games + wait + clean + logdist + has.child,data=df.std)\n",
    "summary(m5)"
   ]
  },
  {
   "cell_type": "markdown",
   "metadata": {},
   "source": [
    "We can include an interaction of two terms by using the **: **operator between variables\n",
    "in a formula.\n",
    "<br>\n",
    "<br> For instance, to estimate overall as a function of rides plus\n",
    "the interaction of wait and has.child, we could write the formula as overall\n",
    "*∼ rides + wait:no.child*."
   ]
  },
  {
   "cell_type": "code",
   "execution_count": 42,
   "metadata": {
    "scrolled": false
   },
   "outputs": [],
   "source": [
    "m6 <- lm(overall ∼ rides + games + wait + clean + weekend + logdist + has.child + rides:has.child + \n",
    "         games:has.child + wait:has.child + clean:has.child + rides:weekend + games:weekend \n",
    "+ wait:weekend + clean:weekend, data=df.std)\n"
   ]
  },
  {
   "cell_type": "code",
   "execution_count": 43,
   "metadata": {},
   "outputs": [
    {
     "data": {
      "text/plain": [
       "\n",
       "Call:\n",
       "lm(formula = overall ~ rides + games + wait + clean + weekend + \n",
       "    logdist + has.child + rides:has.child + games:has.child + \n",
       "    wait:has.child + clean:has.child + rides:weekend + games:weekend + \n",
       "    wait:weekend + clean:weekend, data = df.std)\n",
       "\n",
       "Residuals:\n",
       "     Min       1Q   Median       3Q      Max \n",
       "-1.20612 -0.29683  0.00697  0.30788  1.45325 \n",
       "\n",
       "Coefficients:\n",
       "                     Estimate Std. Error t value Pr(>|t|)    \n",
       "(Intercept)         -0.714619   0.042563 -16.790  < 2e-16 ***\n",
       "rides                0.146551   0.067344   2.176 0.030026 *  \n",
       "games                0.073642   0.048821   1.508 0.132103    \n",
       "wait                 0.132772   0.043923   3.023 0.002637 ** \n",
       "clean                0.304566   0.078835   3.863 0.000127 ***\n",
       "weekendyes          -0.015968   0.040826  -0.391 0.695880    \n",
       "logdist              0.026443   0.020480   1.291 0.197261    \n",
       "has.childTRUE        1.044456   0.044397  23.525  < 2e-16 ***\n",
       "rides:has.childTRUE  0.054988   0.072208   0.762 0.446719    \n",
       "games:has.childTRUE -0.057629   0.052324  -1.101 0.271275    \n",
       "wait:has.childTRUE   0.341793   0.046910   7.286 1.31e-12 ***\n",
       "clean:has.childTRUE  0.001811   0.078638   0.023 0.981640    \n",
       "rides:weekendyes     0.072338   0.066973   1.080 0.280637    \n",
       "games:weekendyes     0.021666   0.048577   0.446 0.655779    \n",
       "wait:weekendyes      0.033464   0.044053   0.760 0.447846    \n",
       "clean:weekendyes    -0.043026   0.070224  -0.613 0.540366    \n",
       "---\n",
       "Signif. codes:  0 '***' 0.001 '**' 0.01 '*' 0.05 '.' 0.1 ' ' 1\n",
       "\n",
       "Residual standard error: 0.4477 on 484 degrees of freedom\n",
       "Multiple R-squared:  0.8056,\tAdjusted R-squared:  0.7996 \n",
       "F-statistic: 133.7 on 15 and 484 DF,  p-value: < 2.2e-16\n"
      ]
     },
     "metadata": {},
     "output_type": "display_data"
    }
   ],
   "source": [
    "summary(m6)"
   ]
  },
  {
   "cell_type": "markdown",
   "metadata": {},
   "source": [
    "The model object m6 now includes eight interaction terms between ratings for features\n",
    "of the park and no.child and weekend. Only **one of these interactions\n",
    "is significant: the wait:no.child interaction**.\n",
    "<br>\n",
    "<br>This suggests we could drop the\n",
    "non-significant interactions to create a new model m7:"
   ]
  },
  {
   "cell_type": "code",
   "execution_count": 44,
   "metadata": {},
   "outputs": [
    {
     "data": {
      "text/plain": [
       "\n",
       "Call:\n",
       "lm(formula = overall ~ rides + games + wait + clean + logdist + \n",
       "    has.child + wait:has.child, data = df.std)\n",
       "\n",
       "Residuals:\n",
       "     Min       1Q   Median       3Q      Max \n",
       "-1.18731 -0.30473 -0.00076  0.32601  1.41957 \n",
       "\n",
       "Coefficients:\n",
       "                   Estimate Std. Error t value Pr(>|t|)    \n",
       "(Intercept)        -0.72769    0.03647 -19.952  < 2e-16 ***\n",
       "rides               0.21439    0.03274   6.549 1.46e-10 ***\n",
       "games               0.04875    0.02370   2.057   0.0402 *  \n",
       "wait                0.15182    0.03674   4.133 4.21e-05 ***\n",
       "clean               0.28936    0.03446   8.396 4.96e-16 ***\n",
       "logdist             0.02890    0.02006   1.440   0.1504    \n",
       "has.childTRUE       1.04753    0.04372  23.962  < 2e-16 ***\n",
       "wait:has.childTRUE  0.33970    0.04348   7.813 3.42e-14 ***\n",
       "---\n",
       "Signif. codes:  0 '***' 0.001 '**' 0.01 '*' 0.05 '.' 0.1 ' ' 1\n",
       "\n",
       "Residual standard error: 0.4463 on 492 degrees of freedom\n",
       "Multiple R-squared:  0.8036,\tAdjusted R-squared:  0.8008 \n",
       "F-statistic: 287.6 on 7 and 492 DF,  p-value: < 2.2e-16\n"
      ]
     },
     "metadata": {},
     "output_type": "display_data"
    }
   ],
   "source": [
    "m7 <- lm(overall ∼ rides + games + wait + clean + logdist + has.child + wait:has.child, data=df.std)\n",
    "summary(m7)"
   ]
  },
  {
   "cell_type": "markdown",
   "metadata": {},
   "source": [
    "In these results, we see that **attending the park with children is a predictor of higher\n",
    "satisfaction, and waiting time is more important predictor among those with children (wait:has.childTRUE) than those without children.** We don’t know the reason\n",
    "for this, but perhaps children go on more rides and their parents are therefore more\n",
    "influenced by wait times.\n",
    "\n",
    "\n",
    "One might further tune the model by considering whether logdist is still needed;\n",
    "I’ll leave that you to verify that and assume that **model m7 is the final model**."
   ]
  },
  {
   "cell_type": "markdown",
   "metadata": {},
   "source": [
    "### What to do with results? \n",
    "What do we do with these results as marketers? We identify several possible marketing\n",
    "interventions. \n",
    "1. If we want to increase satisfaction overall, we could perhaps do so by trying to increase the number of visitors with children. \n",
    "2. Alternatively, if we want to appeal to visitors without children, we might engage in further research to understand why their ratings are lower. \n",
    "3. If we are allocating budget to personnel, the importance of cleanliness suggests continuing to allocate resources there (as opposed, say, to games).\n",
    "4. We might also want to learn more about the association between children and waiting time, and whether there are things we could do to make waiting less frequent or more enjoyable.\n",
    "\n",
    "\n",
    "There are many more such questions one could pose from results like these; **a crucial\n",
    "step in analysis is to think carefully about the implications and where one might\n",
    "be able to make a product or market intervention**. \n",
    "\n",
    "\n",
    "**Important** to remember that the model assesses **association, not causation**.\n",
    "Possible changes in outcome should be viewed as hypotheses suggested by\n",
    "the model, to be confirmed separately."
   ]
  },
  {
   "cell_type": "code",
   "execution_count": 45,
   "metadata": {
    "scrolled": false
   },
   "outputs": [
    {
     "name": "stderr",
     "output_type": "stream",
     "text": [
      "Warning message:\n",
      "\"Ignoring unknown aesthetics: xmin, xmax\""
     ]
    },
    {
     "data": {},
     "metadata": {},
     "output_type": "display_data"
    },
    {
     "data": {
      "image/png": "[encoded data removed]",
      "text/plain": [
       "plot without title"
      ]
     },
     "metadata": {},
     "output_type": "display_data"
    }
   ],
   "source": [
    "coefplot(m7, intercept=FALSE, outerCI=1.96, lwdOuter=1.5,ylab=\"Rating of Feature\",xlab=\"Association with Overall Satisfaction\")"
   ]
  },
  {
   "cell_type": "markdown",
   "metadata": {},
   "source": [
    "# Marginal Plot\n",
    "Marginal Plots provide cool way to validate the functional form of the features."
   ]
  },
  {
   "cell_type": "code",
   "execution_count": 46,
   "metadata": {
    "scrolled": true
   },
   "outputs": [
    {
     "name": "stderr",
     "output_type": "stream",
     "text": [
      "Warning message in mmps(m7, layout = c(2, 3)):\n",
      "\"Interactions and/or factors skipped\""
     ]
    },
    {
     "data": {
      "image/png": "[encoded data removed]",
      "text/plain": [
       "plot without title"
      ]
     },
     "metadata": {},
     "output_type": "display_data"
    }
   ],
   "source": [
    "mmps(m7,layout=c(2,3))"
   ]
  },
  {
   "cell_type": "markdown",
   "metadata": {},
   "source": [
    "# Inverse Response Plot"
   ]
  },
  {
   "cell_type": "code",
   "execution_count": 47,
   "metadata": {
    "scrolled": true
   },
   "outputs": [
    {
     "name": "stderr",
     "output_type": "stream",
     "text": [
      "Warning message:\n",
      "\"'inverse.response.plot' is deprecated.\n",
      "Use 'inverseResponsePlot' instead.\n",
      "See help(\"Deprecated\") and help(\"alr3-deprecated\").\""
     ]
    },
    {
     "data": {
      "text/html": [
       "<table>\n",
       "<thead><tr><th scope=col>lambda</th><th scope=col>RSS</th></tr></thead>\n",
       "<tbody>\n",
       "\t<tr><td> 1.037404</td><td>28676.85 </td></tr>\n",
       "\t<tr><td>-1.000000</td><td>35249.13 </td></tr>\n",
       "\t<tr><td> 0.000000</td><td>29794.01 </td></tr>\n",
       "\t<tr><td> 1.000000</td><td>28677.74 </td></tr>\n",
       "</tbody>\n",
       "</table>\n"
      ],
      "text/latex": [
       "\\begin{tabular}{r|ll}\n",
       " lambda & RSS\\\\\n",
       "\\hline\n",
       "\t  1.037404 & 28676.85 \\\\\n",
       "\t -1.000000 & 35249.13 \\\\\n",
       "\t  0.000000 & 29794.01 \\\\\n",
       "\t  1.000000 & 28677.74 \\\\\n",
       "\\end{tabular}\n"
      ],
      "text/markdown": [
       "\n",
       "lambda | RSS | \n",
       "|---|---|---|---|\n",
       "|  1.037404 | 28676.85  | \n",
       "| -1.000000 | 35249.13  | \n",
       "|  0.000000 | 29794.01  | \n",
       "|  1.000000 | 28677.74  | \n",
       "\n",
       "\n"
      ],
      "text/plain": [
       "  lambda    RSS     \n",
       "1  1.037404 28676.85\n",
       "2 -1.000000 35249.13\n",
       "3  0.000000 29794.01\n",
       "4  1.000000 28677.74"
      ]
     },
     "metadata": {},
     "output_type": "display_data"
    },
    {
     "data": {
      "image/png": "[encoded data removed]",
      "text/plain": [
       "plot without title"
      ]
     },
     "metadata": {},
     "output_type": "display_data"
    }
   ],
   "source": [
    "par(mfrow=c(1,1))\n",
    "inverse.response.plot(m1,key=TRUE)\n"
   ]
  },
  {
   "cell_type": "code",
   "execution_count": 48,
   "metadata": {},
   "outputs": [],
   "source": [
    "#Model=1\n",
    "n <- length(m1$residuals)\n",
    "npar <- length(m1$coefficients) +1\n",
    "#Calculate adjusted R_Square\n",
    "R_sq_m1<-summary(m1)$adj.r.squared\n",
    "#Calculate AICc\n",
    "AIC_m1<-extractAIC(m1,k=2)+2*npar*(npar+1)/(n-npar-1)\n",
    "#Calculate BIC\n",
    "BIC_m1<-extractAIC(m1,k=log(n))\n",
    "#Model=2\n",
    "npar <- length(m2$coefficients) +1\n",
    "#Calculate adjusted R_Square\n",
    "R_sq_m2<-summary(m2)$adj.r.squared\n",
    "#Calculate AICc\n",
    "AIC_m2<-extractAIC(m2,k=2)+2*npar*(npar+1)/(n-npar-1)\n",
    "#Calculate BIC\n",
    "BIC_m2<-extractAIC(m2,k=log(n))\n",
    "#Model=5\n",
    "npar <- length(m5$coefficients) +1\n",
    "#Calculate adjusted R_Square\n",
    "R_sq_m5<-summary(m5)$adj.r.squared\n",
    "#Calculate AICc\n",
    "AIC_m5<-extractAIC(m5,k=2)+2*npar*(npar+1)/(n-npar-1)\n",
    "#Calculate BIC\n",
    "BIC_m5<-extractAIC(m5,k=log(n))\n",
    "#Model=6\n",
    "npar <- length(m6$coefficients) +1\n",
    "#Calculate adjusted R_Square\n",
    "R_sq_m6<-summary(m6)$adj.r.squared\n",
    "#Calculate AICc\n",
    "AIC_m6<-extractAIC(m6,k=2)+2*npar*(npar+1)/(n-npar-1)\n",
    "#Calculate BIC\n",
    "BIC_m6<-extractAIC(m6,k=log(n))\n",
    "#Model=6\n",
    "npar <- length(m7$coefficients) +1\n",
    "#Calculate adjusted R_Square\n",
    "R_sq_m7<-summary(m7)$adj.r.squared\n",
    "#Calculate AICc\n",
    "AIC_m7<-extractAIC(m7,k=2)+2*npar*(npar+1)/(n-npar-1)\n",
    "#Calculate BIC\n",
    "BIC_m7<-extractAIC(m7,k=log(n))"
   ]
  },
  {
   "cell_type": "code",
   "execution_count": 49,
   "metadata": {},
   "outputs": [],
   "source": [
    "R_square<-cbind(R_sq_m1,R_sq_m2,R_sq_m5,R_sq_m6,R_sq_m7)\n",
    "AIC<-cbind(AIC_m1[2],AIC_m2[2],AIC_m5[2],AIC_m6[2],AIC_m7[2])\n",
    "BIC<-cbind(BIC_m1[2],BIC_m2[2],BIC_m5[2],BIC_m6[2],BIC_m7[2])\n",
    "table<-rbind(R_square,AIC,BIC)\n"
   ]
  },
  {
   "cell_type": "code",
   "execution_count": 50,
   "metadata": {},
   "outputs": [
    {
     "data": {
      "text/html": [
       "<table>\n",
       "<thead><tr><th scope=col>R_sq_m1</th><th scope=col>R_sq_m2</th><th scope=col>R_sq_m5</th><th scope=col>R_sq_m6</th><th scope=col>R_sq_m7</th></tr></thead>\n",
       "<tbody>\n",
       "\t<tr><td>   0.3324305</td><td>   0.5389668</td><td>   0.7765439</td><td>   0.799596 </td><td>   0.8008016</td></tr>\n",
       "\t<tr><td>2577.3367342</td><td>2395.3508756</td><td>-742.0264129</td><td>-786.701850 </td><td>-798.4242080</td></tr>\n",
       "\t<tr><td>2585.7175633</td><td>2416.2535307</td><td>-712.8174352</td><td>-720.537830 </td><td>-765.0746901</td></tr>\n",
       "</tbody>\n",
       "</table>\n"
      ],
      "text/latex": [
       "\\begin{tabular}{lllll}\n",
       " R\\_sq\\_m1 & R\\_sq\\_m2 & R\\_sq\\_m5 & R\\_sq\\_m6 & R\\_sq\\_m7\\\\\n",
       "\\hline\n",
       "\t    0.3324305 &    0.5389668 &    0.7765439 &    0.799596  &    0.8008016\\\\\n",
       "\t 2577.3367342 & 2395.3508756 & -742.0264129 & -786.701850  & -798.4242080\\\\\n",
       "\t 2585.7175633 & 2416.2535307 & -712.8174352 & -720.537830  & -765.0746901\\\\\n",
       "\\end{tabular}\n"
      ],
      "text/markdown": [
       "\n",
       "R_sq_m1 | R_sq_m2 | R_sq_m5 | R_sq_m6 | R_sq_m7 | \n",
       "|---|---|---|\n",
       "|    0.3324305 |    0.5389668 |    0.7765439 |    0.799596  |    0.8008016 | \n",
       "| 2577.3367342 | 2395.3508756 | -742.0264129 | -786.701850  | -798.4242080 | \n",
       "| 2585.7175633 | 2416.2535307 | -712.8174352 | -720.537830  | -765.0746901 | \n",
       "\n",
       "\n"
      ],
      "text/plain": [
       "     R_sq_m1      R_sq_m2      R_sq_m5      R_sq_m6     R_sq_m7     \n",
       "[1,]    0.3324305    0.5389668    0.7765439    0.799596    0.8008016\n",
       "[2,] 2577.3367342 2395.3508756 -742.0264129 -786.701850 -798.4242080\n",
       "[3,] 2585.7175633 2416.2535307 -712.8174352 -720.537830 -765.0746901"
      ]
     },
     "metadata": {},
     "output_type": "display_data"
    }
   ],
   "source": [
    "table"
   ]
  },
  {
   "cell_type": "markdown",
   "metadata": {},
   "source": [
    "## Measuring the quality of fit\n",
    "\n",
    "Suppose now you want to choose the model based on the measure how good is your model predicting. In the regression setting, the most commonly-use measure is the **mean squared error**(MSE), given by \n",
    "$$MSE = \\frac{1}{n}\\sum_{i=1}^n(y_i - \\hat f(x_i))^2,$$\n",
    "where $\\hat f(x_i)$ is the prediction that $hat f$ gives for the $i$th observation. The MSE will be small if the predicted responses are very close to the true responses and vice versa. \n",
    "\n",
    "**Important** If you compute estimate to previously seen data set (**training data**), then it should be comparably small. But in general, we do not really care how well the method works on the training data. Rather, *we are interested in the accuracy of the predictions that we obtain when we apply out method to previously unseen test data*. When your dataset is small and you do not have luxury to divide your data into two parts. One of the recommended method is $K-$fold crossvalidation"
   ]
  },
  {
   "cell_type": "markdown",
   "metadata": {},
   "source": [
    "### Cross Validation\n",
    "In this case we randomly divide the set of observations into $k$ groups, or folds, of approximately equal size. Tje first fold is treated as a validation set, and the method is fit on the remaining $k-1$ folds. The $MSE_1$ is them computed on the observations in the held-out fold. This procedure is repeated $k$ times; each time, a different group of observations is treated as a validation set. This process results in $k$ estimates of the error, $MSE_1,MSE_2,\\dots,MSE_k$. The $k-$fold CV is computed by averaging values,\n",
    "$$CV_{(k)}=\\frac{1}{k}\\sum_{i=1}^k MSE_i$$\n"
   ]
  },
  {
   "cell_type": "code",
   "execution_count": 51,
   "metadata": {},
   "outputs": [
    {
     "data": {
      "text/html": [
       "<ol class=list-inline>\n",
       "\t<li>500</li>\n",
       "\t<li>9</li>\n",
       "</ol>\n"
      ],
      "text/latex": [
       "\\begin{enumerate*}\n",
       "\\item 500\n",
       "\\item 9\n",
       "\\end{enumerate*}\n"
      ],
      "text/markdown": [
       "1. 500\n",
       "2. 9\n",
       "\n",
       "\n"
      ],
      "text/plain": [
       "[1] 500   9"
      ]
     },
     "metadata": {},
     "output_type": "display_data"
    },
    {
     "name": "stdout",
     "output_type": "stream",
     "text": [
      "[1] 0.2203277\n",
      "[1] 0.1939911\n",
      "[1] 0.1960113\n"
     ]
    }
   ],
   "source": [
    "dim(df)\n",
    "MSE_m5<-deviance(m5)/nobs(m5)\n",
    "print(MSE_m5)\n",
    "MSE_m6<-deviance(m6)/nobs(m6)\n",
    "print(MSE_m6)\n",
    "MSE_m7<-deviance(m7)/nobs(m7)\n",
    "print(MSE_m7)"
   ]
  },
  {
   "cell_type": "code",
   "execution_count": 68,
   "metadata": {},
   "outputs": [],
   "source": [
    "cvlm<-function(n_folds=5,model,df)\n",
    "    {\n",
    "    data<-df\n",
    "    K<-n_folds\n",
    "    model<-model\n",
    "    form<-formula(model)\n",
    "    formtxt <- deparse(form)\n",
    "    mf <- model.frame(form, data = data)\n",
    "    ynam <- attr(mf, \"names\")[attr(attr(mf, \"terms\"), \"response\")]\n",
    "    n_fold<-5\n",
    "    sum.sq<-numeric(n_fold)\n",
    "    fold_i <-rep(1:n_fold,length.out=dim(data)[1])\n",
    "    for ( i in 1:n_fold)\n",
    "    {\n",
    "      test_i <-which(fold_i==i)\n",
    "      n<-length(test_i)[1]  \n",
    "      test<-data[test_i,]\n",
    "      train<-data[-test_i,]\n",
    "      test_x<-mf[test_i,]\n",
    "      model_i<-lm(form,data=train)\n",
    "      sum.sq[i]<-sum((test$overall-predict(model_i,newdata=test_x))^2)/n\n",
    "     }\n",
    "    SSE<-sum.sq\n",
    "    MSE<-sum(sum.sq)/K\n",
    "    return<-list(\"MSE\"=MSE,\"SSE\"=SSE)\n",
    "    return(return)\n",
    "    }"
   ]
  },
  {
   "cell_type": "code",
   "execution_count": 69,
   "metadata": {},
   "outputs": [
    {
     "data": {
      "text/html": [
       "<ol class=list-inline>\n",
       "\t<li>0.226783083734997</li>\n",
       "\t<li>0.207219794257526</li>\n",
       "\t<li>0.202444613178952</li>\n",
       "</ol>\n"
      ],
      "text/latex": [
       "\\begin{enumerate*}\n",
       "\\item 0.226783083734997\n",
       "\\item 0.207219794257526\n",
       "\\item 0.202444613178952\n",
       "\\end{enumerate*}\n"
      ],
      "text/markdown": [
       "1. 0.226783083734997\n",
       "2. 0.207219794257526\n",
       "3. 0.202444613178952\n",
       "\n",
       "\n"
      ],
      "text/plain": [
       "[1] 0.2267831 0.2072198 0.2024446"
      ]
     },
     "metadata": {},
     "output_type": "display_data"
    }
   ],
   "source": [
    "MSE.m5<-cvlm(5,m5,df.std)$MSE\n",
    "MSE.m6<-cvlm(5,m6,df.std)$MSE\n",
    "MSE.m7<-cvlm(5,m7,df.std)$MSE\n",
    "c(MSE.m5,MSE.m6,MSE.m7)"
   ]
  },
  {
   "cell_type": "code",
   "execution_count": 70,
   "metadata": {},
   "outputs": [],
   "source": [
    "SSE.m5<-cvlm(5,m5,df.std)$SSE\n",
    "SSE.m6<-cvlm(5,m6,df.std)$SSE\n",
    "SSE.m7<-cvlm(5,m7,df.std)$SSE"
   ]
  },
  {
   "cell_type": "code",
   "execution_count": 72,
   "metadata": {},
   "outputs": [
    {
     "data": {
      "image/png": "[encoded data removed]",
      "text/plain": [
       "plot without title"
      ]
     },
     "metadata": {},
     "output_type": "display_data"
    }
   ],
   "source": [
    "boxplot(SSE.m5,SSE.m6,SSE.m7,names=c(\"M5\",\"M6\",\"M7\"),col=c(\"blue\",\"green\",\"purple\"))"
   ]
  },
  {
   "cell_type": "markdown",
   "metadata": {},
   "source": [
    "## Recommended Procedure for Linear Model Fitting\n",
    "We followed a lengthy process to arrive at the final model m7, and it is helpful to\n",
    "recount the general steps we recommend in creating such a linear model.\n",
    "    1. Inspect the data to make sure it is clean and has the structure you expect.\n",
    "    2. Check the distributions of the variables to make sure they are not highly skewed\n",
    "     If one is skewed, consider transforming it.\n",
    "    3. Examine the bivariate scatterplots and correlation matrix to see\n",
    "    whether there are any extremely correlated variables (such as r > 0.9, or several\n",
    "    with r > 0.8). If so, omit some variables or consider transforming them if\n",
    "    needed.\n",
    "    4. If you wish to estimate coefficients on a consistent scale, standardize the data\n",
    "    with scale() (Sect. 7.3.3).\n",
    "    5. After fitting a model, check the residual quantiles in the output. The residuals\n",
    "    show how well the model accounts for the individual observations (Sect. 7.2.4).\n",
    "    6. Check the standard model plots using plot(), which will help you judge\n",
    "    whether a linear model is appropriate or whether there is nonlinearity, and will\n",
    "    identify potential outliers in the data (Sect. 7.2.4).\n",
    "    7. Try several models and compare them for overall interpretability and model fit\n",
    "    by inspecting the residuals’ spread and overall R2 (Sect. 7.3.1). If the models\n",
    "    are nested, you could also use anova() for comparison (Sect. 6.5.1) .\n",
    "    8. Report the confidence intervals of the estimates with your interpretation and\n",
    "    recommendations (Sect. 7.3)."
   ]
  },
  {
   "cell_type": "code",
   "execution_count": null,
   "metadata": {},
   "outputs": [],
   "source": []
  }
 ],
 "metadata": {
  "kernelspec": {
   "display_name": "R",
   "language": "R",
   "name": "ir"
  },
  "language_info": {
   "codemirror_mode": "r",
   "file_extension": ".r",
   "mimetype": "text/x-r-source",
   "name": "R",
   "pygments_lexer": "r",
   "version": "3.4.3"
  }
 },
 "nbformat": 4,
 "nbformat_minor": 2
}
